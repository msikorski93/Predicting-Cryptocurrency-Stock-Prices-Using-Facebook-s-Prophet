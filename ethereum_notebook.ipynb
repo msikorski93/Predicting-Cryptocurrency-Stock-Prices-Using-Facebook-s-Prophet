{
 "cells": [
  {
   "cell_type": "markdown",
   "metadata": {
    "id": "lKGg2ExiWwdc"
   },
   "source": [
    "# Predicting Cryptocurrency Stock Prices Using Facebook's Prophet\n",
    "\n",
    "Author: **Marcin Sikorski**<br>\n",
    "Date: December, 2021\n",
    "\n",
    "Crytpocurrencies are lately very trendy and a big subject to investment. Stock market prediction is the act of trying to determine the future value of an other financial instrument or company stock traded on a financial exchange. Time series predicting is one of most demanding object in machine learning on today's market.\n",
    "\n",
    "**Understanding Cryptocurrencies**<br>\n",
    "A cryptocurrency is a digital or binary collection of data that is secured by cryptography, which makes it nearly impossible to counterfeit or double spend. Many cryptocurrencies are decentralized networks based on blockchain technology. A defining feature of cryptocurrencies is that they are generally not issued by any central authority, rendering them theoretically immune to government interference or manipulation. This type of technology will disrupt many industries, like finance and law. This type of payment holds the promise of making it easier to transfer funds directly between two parties, without the need for a trusted third party like a bank or credit card company. It also means there is high anonimity and no tracking.\n",
    "\n",
    "Unfortunately, cryptocurrencies are not perfect. The nature of cryptocurrency transactions makes them well suited for illegal activities, such as money laundering and tax evasion. They are also popular as payment in the so called dark web. Some currencies are relatively poor too choose for conducting illegal business online, since the forensic analysis of some blockchains have helped authorities arrest and prosecute criminals.\n",
    "\n",
    "**Problem Description**<br>\n",
    "We want to know future stock data for Ethereum cryptocurrency. For this task we will discover how to build a predictive model using <code>Prophet</code> library and forecast future prices 60 days ahead.\n",
    "\n",
    "**Report Content:**<br>\n",
    "1. Importing Packages and Stock Data<br>\n",
    "2. Plotting Time Series<br>\n",
    "3. Introducing the Prophet Model<br>\n",
    "4. Developing the Predictive Model and Visualizing Results<br>\n",
    "    4.1 Analyzing Seasonality and Individual Components<br>\n",
    "    4.2 Trend Changepoints<br>\n",
    "5. Accuracy Metrics and Measure Performance of Fitted Model\n",
    "6. Extrapolating Future Stock Data<br>\n",
    "7. Summary and Final Thoughts\n",
    "\n",
    "[1]:https://www.investopedia.com/terms/c/cryptocurrency.asp"
   ]
  },
  {
   "cell_type": "markdown",
   "metadata": {
    "id": "HjHNoqAfWwdl"
   },
   "source": [
    "### 1. Importing Packages and Stock Data"
   ]
  },
  {
   "cell_type": "code",
   "execution_count": 2,
   "metadata": {
    "executionInfo": {
     "elapsed": 282,
     "status": "ok",
     "timestamp": 1640822593689,
     "user": {
      "displayName": "Marcin Sikorski",
      "photoUrl": "https://lh3.googleusercontent.com/a/default-user=s64",
      "userId": "11991808285549610170"
     },
     "user_tz": -60
    },
    "id": "ezkUMr9SkNOK"
   },
   "outputs": [],
   "source": [
    "import pandas as pd\n",
    "import matplotlib.pyplot as plt\n",
    "from alpha_vantage.cryptocurrencies import CryptoCurrencies"
   ]
  },
  {
   "cell_type": "markdown",
   "metadata": {
    "id": "aNe3tma_Wwdu"
   },
   "source": [
    "To get stock data for this repository, we will use Alpha Vantage. This API supplies us with real time stock prices in tabular form in daily resolution. I keep my API key in *txt* file for privacy."
   ]
  },
  {
   "cell_type": "code",
   "execution_count": 3,
   "metadata": {
    "executionInfo": {
     "elapsed": 289,
     "status": "ok",
     "timestamp": 1640822596241,
     "user": {
      "displayName": "Marcin Sikorski",
      "photoUrl": "https://lh3.googleusercontent.com/a/default-user=s64",
      "userId": "11991808285549610170"
     },
     "user_tz": -60
    },
    "id": "JDsaAKSMkk7m"
   },
   "outputs": [],
   "source": [
    "# read API key from text file\n",
    "with open('api_key.txt') as f:\n",
    "    api_key = f.readline()"
   ]
  },
  {
   "cell_type": "code",
   "execution_count": 4,
   "metadata": {
    "colab": {
     "base_uri": "https://localhost:8080/"
    },
    "executionInfo": {
     "elapsed": 894,
     "status": "ok",
     "timestamp": 1640822598761,
     "user": {
      "displayName": "Marcin Sikorski",
      "photoUrl": "https://lh3.googleusercontent.com/a/default-user=s64",
      "userId": "11991808285549610170"
     },
     "user_tz": -60
    },
    "id": "CYevTqq2kuxH",
    "outputId": "15bce7f9-75aa-48f1-aef5-ff0c590132b2"
   },
   "outputs": [
    {
     "data": {
      "text/plain": [
       "{'1. Information': 'Daily Prices and Volumes for Digital Currency',\n",
       " '2. Digital Currency Code': 'ETH',\n",
       " '3. Digital Currency Name': 'Ethereum',\n",
       " '4. Market Code': 'PLN',\n",
       " '5. Market Name': 'Polish Zloty',\n",
       " '6. Last Refreshed': '2021-12-29 00:00:00',\n",
       " '7. Time Zone': 'UTC'}"
      ]
     },
     "execution_count": 4,
     "metadata": {},
     "output_type": "execute_result"
    }
   ],
   "source": [
    "# currency and market symbol\n",
    "symbol='ETH'\n",
    "market='PLN'\n",
    "\n",
    "# API call for Polish market\n",
    "cc = CryptoCurrencies(key=api_key, output_format='pandas', indexing_type='date')\n",
    "data, metadata = cc.get_digital_currency_daily(symbol=symbol, market=market)\n",
    "\n",
    "# display call metadata\n",
    "metadata"
   ]
  },
  {
   "cell_type": "code",
   "execution_count": 5,
   "metadata": {
    "colab": {
     "base_uri": "https://localhost:8080/",
     "height": 238
    },
    "executionInfo": {
     "elapsed": 298,
     "status": "ok",
     "timestamp": 1640822600806,
     "user": {
      "displayName": "Marcin Sikorski",
      "photoUrl": "https://lh3.googleusercontent.com/a/default-user=s64",
      "userId": "11991808285549610170"
     },
     "user_tz": -60
    },
    "id": "UGamEvGkk22t",
    "outputId": "d0b2a6e6-87c7-4c34-c0b0-6dd4af71388e"
   },
   "outputs": [
    {
     "data": {
      "text/html": [
       "\n",
       "  <div id=\"df-970240ff-9f2a-4b5f-af8e-21d9564fd9ce\">\n",
       "    <div class=\"colab-df-container\">\n",
       "      <div>\n",
       "<style scoped>\n",
       "    .dataframe tbody tr th:only-of-type {\n",
       "        vertical-align: middle;\n",
       "    }\n",
       "\n",
       "    .dataframe tbody tr th {\n",
       "        vertical-align: top;\n",
       "    }\n",
       "\n",
       "    .dataframe thead th {\n",
       "        text-align: right;\n",
       "    }\n",
       "</style>\n",
       "<table border=\"1\" class=\"dataframe\">\n",
       "  <thead>\n",
       "    <tr style=\"text-align: right;\">\n",
       "      <th></th>\n",
       "      <th>1a. open (PLN)</th>\n",
       "      <th>1b. open (USD)</th>\n",
       "      <th>2a. high (PLN)</th>\n",
       "      <th>2b. high (USD)</th>\n",
       "      <th>3a. low (PLN)</th>\n",
       "      <th>3b. low (USD)</th>\n",
       "      <th>4a. close (PLN)</th>\n",
       "      <th>4b. close (USD)</th>\n",
       "      <th>5. volume</th>\n",
       "      <th>6. market cap (USD)</th>\n",
       "    </tr>\n",
       "    <tr>\n",
       "      <th>date</th>\n",
       "      <th></th>\n",
       "      <th></th>\n",
       "      <th></th>\n",
       "      <th></th>\n",
       "      <th></th>\n",
       "      <th></th>\n",
       "      <th></th>\n",
       "      <th></th>\n",
       "      <th></th>\n",
       "      <th></th>\n",
       "    </tr>\n",
       "  </thead>\n",
       "  <tbody>\n",
       "    <tr>\n",
       "      <th>2021-12-29</th>\n",
       "      <td>15353.810550</td>\n",
       "      <td>3792.75</td>\n",
       "      <td>15495.618996</td>\n",
       "      <td>3827.78</td>\n",
       "      <td>14964.778530</td>\n",
       "      <td>3696.65</td>\n",
       "      <td>15051.207600</td>\n",
       "      <td>3718.00</td>\n",
       "      <td>258948.3029</td>\n",
       "      <td>258948.3029</td>\n",
       "    </tr>\n",
       "    <tr>\n",
       "      <th>2021-12-28</th>\n",
       "      <td>16343.474004</td>\n",
       "      <td>4037.22</td>\n",
       "      <td>16343.514486</td>\n",
       "      <td>4037.23</td>\n",
       "      <td>15218.641152</td>\n",
       "      <td>3759.36</td>\n",
       "      <td>15353.810550</td>\n",
       "      <td>3792.75</td>\n",
       "      <td>358064.7163</td>\n",
       "      <td>358064.7163</td>\n",
       "    </tr>\n",
       "    <tr>\n",
       "      <th>2021-12-27</th>\n",
       "      <td>16450.144074</td>\n",
       "      <td>4063.57</td>\n",
       "      <td>16708.783572</td>\n",
       "      <td>4127.46</td>\n",
       "      <td>16318.294200</td>\n",
       "      <td>4031.00</td>\n",
       "      <td>16343.514486</td>\n",
       "      <td>4037.23</td>\n",
       "      <td>222202.1383</td>\n",
       "      <td>222202.1383</td>\n",
       "    </tr>\n",
       "    <tr>\n",
       "      <th>2021-12-26</th>\n",
       "      <td>16574.788152</td>\n",
       "      <td>4094.36</td>\n",
       "      <td>16617.861000</td>\n",
       "      <td>4105.00</td>\n",
       "      <td>16192.800000</td>\n",
       "      <td>4000.00</td>\n",
       "      <td>16450.103592</td>\n",
       "      <td>4063.56</td>\n",
       "      <td>189309.2550</td>\n",
       "      <td>189309.2550</td>\n",
       "    </tr>\n",
       "    <tr>\n",
       "      <th>2021-12-25</th>\n",
       "      <td>16380.434070</td>\n",
       "      <td>4046.35</td>\n",
       "      <td>16751.087262</td>\n",
       "      <td>4137.91</td>\n",
       "      <td>16268.177484</td>\n",
       "      <td>4018.62</td>\n",
       "      <td>16576.690806</td>\n",
       "      <td>4094.83</td>\n",
       "      <td>208126.8805</td>\n",
       "      <td>208126.8805</td>\n",
       "    </tr>\n",
       "  </tbody>\n",
       "</table>\n",
       "</div>\n",
       "      <button class=\"colab-df-convert\" onclick=\"convertToInteractive('df-970240ff-9f2a-4b5f-af8e-21d9564fd9ce')\"\n",
       "              title=\"Convert this dataframe to an interactive table.\"\n",
       "              style=\"display:none;\">\n",
       "        \n",
       "  <svg xmlns=\"http://www.w3.org/2000/svg\" height=\"24px\"viewBox=\"0 0 24 24\"\n",
       "       width=\"24px\">\n",
       "    <path d=\"M0 0h24v24H0V0z\" fill=\"none\"/>\n",
       "    <path d=\"M18.56 5.44l.94 2.06.94-2.06 2.06-.94-2.06-.94-.94-2.06-.94 2.06-2.06.94zm-11 1L8.5 8.5l.94-2.06 2.06-.94-2.06-.94L8.5 2.5l-.94 2.06-2.06.94zm10 10l.94 2.06.94-2.06 2.06-.94-2.06-.94-.94-2.06-.94 2.06-2.06.94z\"/><path d=\"M17.41 7.96l-1.37-1.37c-.4-.4-.92-.59-1.43-.59-.52 0-1.04.2-1.43.59L10.3 9.45l-7.72 7.72c-.78.78-.78 2.05 0 2.83L4 21.41c.39.39.9.59 1.41.59.51 0 1.02-.2 1.41-.59l7.78-7.78 2.81-2.81c.8-.78.8-2.07 0-2.86zM5.41 20L4 18.59l7.72-7.72 1.47 1.35L5.41 20z\"/>\n",
       "  </svg>\n",
       "      </button>\n",
       "      \n",
       "  <style>\n",
       "    .colab-df-container {\n",
       "      display:flex;\n",
       "      flex-wrap:wrap;\n",
       "      gap: 12px;\n",
       "    }\n",
       "\n",
       "    .colab-df-convert {\n",
       "      background-color: #E8F0FE;\n",
       "      border: none;\n",
       "      border-radius: 50%;\n",
       "      cursor: pointer;\n",
       "      display: none;\n",
       "      fill: #1967D2;\n",
       "      height: 32px;\n",
       "      padding: 0 0 0 0;\n",
       "      width: 32px;\n",
       "    }\n",
       "\n",
       "    .colab-df-convert:hover {\n",
       "      background-color: #E2EBFA;\n",
       "      box-shadow: 0px 1px 2px rgba(60, 64, 67, 0.3), 0px 1px 3px 1px rgba(60, 64, 67, 0.15);\n",
       "      fill: #174EA6;\n",
       "    }\n",
       "\n",
       "    [theme=dark] .colab-df-convert {\n",
       "      background-color: #3B4455;\n",
       "      fill: #D2E3FC;\n",
       "    }\n",
       "\n",
       "    [theme=dark] .colab-df-convert:hover {\n",
       "      background-color: #434B5C;\n",
       "      box-shadow: 0px 1px 3px 1px rgba(0, 0, 0, 0.15);\n",
       "      filter: drop-shadow(0px 1px 2px rgba(0, 0, 0, 0.3));\n",
       "      fill: #FFFFFF;\n",
       "    }\n",
       "  </style>\n",
       "\n",
       "      <script>\n",
       "        const buttonEl =\n",
       "          document.querySelector('#df-970240ff-9f2a-4b5f-af8e-21d9564fd9ce button.colab-df-convert');\n",
       "        buttonEl.style.display =\n",
       "          google.colab.kernel.accessAllowed ? 'block' : 'none';\n",
       "\n",
       "        async function convertToInteractive(key) {\n",
       "          const element = document.querySelector('#df-970240ff-9f2a-4b5f-af8e-21d9564fd9ce');\n",
       "          const dataTable =\n",
       "            await google.colab.kernel.invokeFunction('convertToInteractive',\n",
       "                                                     [key], {});\n",
       "          if (!dataTable) return;\n",
       "\n",
       "          const docLinkHtml = 'Like what you see? Visit the ' +\n",
       "            '<a target=\"_blank\" href=https://colab.research.google.com/notebooks/data_table.ipynb>data table notebook</a>'\n",
       "            + ' to learn more about interactive tables.';\n",
       "          element.innerHTML = '';\n",
       "          dataTable['output_type'] = 'display_data';\n",
       "          await google.colab.output.renderOutput(dataTable, element);\n",
       "          const docLink = document.createElement('div');\n",
       "          docLink.innerHTML = docLinkHtml;\n",
       "          element.appendChild(docLink);\n",
       "        }\n",
       "      </script>\n",
       "    </div>\n",
       "  </div>\n",
       "  "
      ],
      "text/plain": [
       "            1a. open (PLN)  1b. open (USD)  ...    5. volume  6. market cap (USD)\n",
       "date                                        ...                                  \n",
       "2021-12-29    15353.810550         3792.75  ...  258948.3029          258948.3029\n",
       "2021-12-28    16343.474004         4037.22  ...  358064.7163          358064.7163\n",
       "2021-12-27    16450.144074         4063.57  ...  222202.1383          222202.1383\n",
       "2021-12-26    16574.788152         4094.36  ...  189309.2550          189309.2550\n",
       "2021-12-25    16380.434070         4046.35  ...  208126.8805          208126.8805\n",
       "\n",
       "[5 rows x 10 columns]"
      ]
     },
     "execution_count": 5,
     "metadata": {},
     "output_type": "execute_result"
    }
   ],
   "source": [
    "# display recent day values\n",
    "data.head()"
   ]
  },
  {
   "cell_type": "markdown",
   "metadata": {
    "id": "UjtFPi2NWwd1"
   },
   "source": [
    "We are mostly interested in open and close values, so we will rename these columns more suitable."
   ]
  },
  {
   "cell_type": "code",
   "execution_count": 6,
   "metadata": {
    "executionInfo": {
     "elapsed": 315,
     "status": "ok",
     "timestamp": 1640822604606,
     "user": {
      "displayName": "Marcin Sikorski",
      "photoUrl": "https://lh3.googleusercontent.com/a/default-user=s64",
      "userId": "11991808285549610170"
     },
     "user_tz": -60
    },
    "id": "hGgCNJ6-k7yU"
   },
   "outputs": [],
   "source": [
    "# rename columns\n",
    "data = data.rename(columns={'1a. open (PLN)': 'open_pln', '1b. open (USD)': 'open_usd',\n",
    "                            '4a. close (PLN)': 'close_pln', '4b. close (USD)': 'close_usd'})"
   ]
  },
  {
   "cell_type": "code",
   "execution_count": 7,
   "metadata": {
    "colab": {
     "base_uri": "https://localhost:8080/"
    },
    "executionInfo": {
     "elapsed": 297,
     "status": "ok",
     "timestamp": 1640822606971,
     "user": {
      "displayName": "Marcin Sikorski",
      "photoUrl": "https://lh3.googleusercontent.com/a/default-user=s64",
      "userId": "11991808285549610170"
     },
     "user_tz": -60
    },
    "id": "K1lgtroVlAV8",
    "outputId": "d83612fa-0c9f-453d-dde8-0a99b15f6161"
   },
   "outputs": [
    {
     "data": {
      "text/plain": [
       "(1000, 10)"
      ]
     },
     "execution_count": 7,
     "metadata": {},
     "output_type": "execute_result"
    }
   ],
   "source": [
    "# display number of rows and columns\n",
    "data.shape"
   ]
  },
  {
   "cell_type": "code",
   "execution_count": 8,
   "metadata": {
    "colab": {
     "base_uri": "https://localhost:8080/"
    },
    "executionInfo": {
     "elapsed": 310,
     "status": "ok",
     "timestamp": 1640822608883,
     "user": {
      "displayName": "Marcin Sikorski",
      "photoUrl": "https://lh3.googleusercontent.com/a/default-user=s64",
      "userId": "11991808285549610170"
     },
     "user_tz": -60
    },
    "id": "WuyU4OxilAYf",
    "outputId": "f54ecda5-3f95-4d58-de41-621b6931d8bd"
   },
   "outputs": [
    {
     "data": {
      "text/plain": [
       "open_pln               0\n",
       "open_usd               0\n",
       "2a. high (PLN)         0\n",
       "2b. high (USD)         0\n",
       "3a. low (PLN)          0\n",
       "3b. low (USD)          0\n",
       "close_pln              0\n",
       "close_usd              0\n",
       "5. volume              0\n",
       "6. market cap (USD)    0\n",
       "dtype: int64"
      ]
     },
     "execution_count": 8,
     "metadata": {},
     "output_type": "execute_result"
    }
   ],
   "source": [
    "# search for NaN values in columns\n",
    "data.isnull().sum()"
   ]
  },
  {
   "cell_type": "markdown",
   "metadata": {
    "id": "YkXGx_oqWwd7"
   },
   "source": [
    "**Foreign Exchange (FX)**<br>\n",
    "Additionally, we will display information about foreign exchange. The foreign exchange endpoint has no metadata."
   ]
  },
  {
   "cell_type": "code",
   "execution_count": 9,
   "metadata": {
    "colab": {
     "base_uri": "https://localhost:8080/"
    },
    "executionInfo": {
     "elapsed": 1014,
     "status": "ok",
     "timestamp": 1640822612473,
     "user": {
      "displayName": "Marcin Sikorski",
      "photoUrl": "https://lh3.googleusercontent.com/a/default-user=s64",
      "userId": "11991808285549610170"
     },
     "user_tz": -60
    },
    "id": "zGDETQ84lAbG",
    "outputId": "421297d0-7867-4902-95fa-86c9cf194d65"
   },
   "outputs": [
    {
     "data": {
      "text/plain": [
       "{'1. From_Currency Code': 'ETH',\n",
       " '2. From_Currency Name': 'Ethereum',\n",
       " '3. To_Currency Code': 'PLN',\n",
       " '4. To_Currency Name': 'Polish Zloty',\n",
       " '5. Exchange Rate': '14659.34213800',\n",
       " '6. Last Refreshed': '2021-12-30 00:03:31',\n",
       " '7. Time Zone': 'UTC',\n",
       " '8. Bid Price': '14659.34213800',\n",
       " '9. Ask Price': '14659.38260000'}"
      ]
     },
     "execution_count": 9,
     "metadata": {},
     "output_type": "execute_result"
    }
   ],
   "source": [
    "from alpha_vantage.foreignexchange import ForeignExchange\n",
    "\n",
    "fx = ForeignExchange(key=api_key, output_format='json')\n",
    "# this API call has no metadata\n",
    "exchange, _ = fx.get_currency_exchange_rate(from_currency=symbol, to_currency=market)\n",
    "\n",
    "# display foreign exchange\n",
    "exchange"
   ]
  },
  {
   "cell_type": "markdown",
   "metadata": {
    "id": "3jSYk9fwWwd-"
   },
   "source": [
    "### 2. Plotting Time Series\n",
    "\n",
    "Our dataset is complete and ready for further actions. Let's visualize stock prices."
   ]
  },
  {
   "cell_type": "code",
   "execution_count": 10,
   "metadata": {
    "colab": {
     "base_uri": "https://localhost:8080/",
     "height": 390
    },
    "executionInfo": {
     "elapsed": 464,
     "status": "ok",
     "timestamp": 1640822616156,
     "user": {
      "displayName": "Marcin Sikorski",
      "photoUrl": "https://lh3.googleusercontent.com/a/default-user=s64",
      "userId": "11991808285549610170"
     },
     "user_tz": -60
    },
    "id": "TTyIRxgnlAde",
    "outputId": "53a7e3bc-5580-4047-e91e-960bb42da559"
   },
   "outputs": [
    {
     "data": {
      "image/png": "[encoded data removed]",
      "text/plain": [
       "<Figure size 720x432 with 1 Axes>"
      ]
     },
     "metadata": {
      "needs_background": "light"
     },
     "output_type": "display_data"
    }
   ],
   "source": [
    "# time series for Ethereum\n",
    "time_series = data['close_pln'].rolling(window=30).std()\n",
    "\n",
    "plt.figure(figsize=(10,6))\n",
    "plt.plot(data['close_pln'], label='Close PLN')\n",
    "plt.plot(time_series, label='Rolling Std')\n",
    "plt.title('Daily Close Values for {}'.format(symbol))\n",
    "plt.grid(axis='y')\n",
    "plt.legend()\n",
    "plt.show()"
   ]
  },
  {
   "cell_type": "markdown",
   "metadata": {
    "id": "yZ1CgH7VWweB"
   },
   "source": [
    "In this chart we can easily spot drastic increase of close prices from 2021. The ongoing pandemic has affected every financial product, whether it is the stock market, commodities market or even the cryptocurrency market. Despite such extremity and economic meltdowns, cryptocurrencies overall have proved to be remarkably resilient. We can believe the rapid increase in accessibility of global high speed internet and digitization has created a ripe environment for digital currency. COVID-19 most likely inclined people towards using digital payment modes than ever.<br>\n",
    "We will check and plot daily differences of stock prices in precentage - open and close. A histogram will be the best option to demonstrate them."
   ]
  },
  {
   "cell_type": "code",
   "execution_count": 11,
   "metadata": {
    "colab": {
     "base_uri": "https://localhost:8080/",
     "height": 283
    },
    "executionInfo": {
     "elapsed": 837,
     "status": "ok",
     "timestamp": 1640822620014,
     "user": {
      "displayName": "Marcin Sikorski",
      "photoUrl": "https://lh3.googleusercontent.com/a/default-user=s64",
      "userId": "11991808285549610170"
     },
     "user_tz": -60
    },
    "id": "RYeGmsPjlKWj",
    "outputId": "2cdde592-02ed-4a95-9e45-18ba2e6ed598"
   },
   "outputs": [
    {
     "data": {
      "text/plain": [
       "<matplotlib.axes._subplots.AxesSubplot at 0x7fef228a14d0>"
      ]
     },
     "execution_count": 11,
     "metadata": {},
     "output_type": "execute_result"
    },
    {
     "data": {
      "image/png": "[encoded data removed]",
      "text/plain": [
       "<Figure size 432x288 with 1 Axes>"
      ]
     },
     "metadata": {
      "needs_background": "light"
     },
     "output_type": "display_data"
    }
   ],
   "source": [
    "# new column with changes in percent\n",
    "data['diff_perc'] = ((data['close_pln'] * 100) / data['open_pln']) - 100\n",
    "\n",
    "# plot histogram\n",
    "data['diff_perc'].hist(bins=50)"
   ]
  },
  {
   "cell_type": "markdown",
   "metadata": {
    "id": "ezoeoHbtWweC"
   },
   "source": [
    "Most changes are between 0 and 5% (negative and positive).<br>\n",
    "Unlike long term investing, trading often has a short term focus. Let's check if there is a best day of the week to buy stocks and vice versa the best day to sell them."
   ]
  },
  {
   "cell_type": "code",
   "execution_count": 12,
   "metadata": {
    "colab": {
     "base_uri": "https://localhost:8080/",
     "height": 238
    },
    "executionInfo": {
     "elapsed": 328,
     "status": "ok",
     "timestamp": 1640822623264,
     "user": {
      "displayName": "Marcin Sikorski",
      "photoUrl": "https://lh3.googleusercontent.com/a/default-user=s64",
      "userId": "11991808285549610170"
     },
     "user_tz": -60
    },
    "id": "zXJLikRIlNa5",
    "outputId": "abb566d8-2e84-430a-af30-0732f759bc9e"
   },
   "outputs": [
    {
     "data": {
      "text/html": [
       "\n",
       "  <div id=\"df-42546953-b6af-454c-97f4-1c8e55b3f75d\">\n",
       "    <div class=\"colab-df-container\">\n",
       "      <div>\n",
       "<style scoped>\n",
       "    .dataframe tbody tr th:only-of-type {\n",
       "        vertical-align: middle;\n",
       "    }\n",
       "\n",
       "    .dataframe tbody tr th {\n",
       "        vertical-align: top;\n",
       "    }\n",
       "\n",
       "    .dataframe thead th {\n",
       "        text-align: right;\n",
       "    }\n",
       "</style>\n",
       "<table border=\"1\" class=\"dataframe\">\n",
       "  <thead>\n",
       "    <tr style=\"text-align: right;\">\n",
       "      <th></th>\n",
       "      <th>dates</th>\n",
       "      <th>weekday</th>\n",
       "    </tr>\n",
       "    <tr>\n",
       "      <th>date</th>\n",
       "      <th></th>\n",
       "      <th></th>\n",
       "    </tr>\n",
       "  </thead>\n",
       "  <tbody>\n",
       "    <tr>\n",
       "      <th>2019-04-09</th>\n",
       "      <td>2019-04-09</td>\n",
       "      <td>Tuesday</td>\n",
       "    </tr>\n",
       "    <tr>\n",
       "      <th>2019-04-08</th>\n",
       "      <td>2019-04-08</td>\n",
       "      <td>Monday</td>\n",
       "    </tr>\n",
       "    <tr>\n",
       "      <th>2019-04-07</th>\n",
       "      <td>2019-04-07</td>\n",
       "      <td>Sunday</td>\n",
       "    </tr>\n",
       "    <tr>\n",
       "      <th>2019-04-06</th>\n",
       "      <td>2019-04-06</td>\n",
       "      <td>Saturday</td>\n",
       "    </tr>\n",
       "    <tr>\n",
       "      <th>2019-04-05</th>\n",
       "      <td>2019-04-05</td>\n",
       "      <td>Friday</td>\n",
       "    </tr>\n",
       "  </tbody>\n",
       "</table>\n",
       "</div>\n",
       "      <button class=\"colab-df-convert\" onclick=\"convertToInteractive('df-42546953-b6af-454c-97f4-1c8e55b3f75d')\"\n",
       "              title=\"Convert this dataframe to an interactive table.\"\n",
       "              style=\"display:none;\">\n",
       "        \n",
       "  <svg xmlns=\"http://www.w3.org/2000/svg\" height=\"24px\"viewBox=\"0 0 24 24\"\n",
       "       width=\"24px\">\n",
       "    <path d=\"M0 0h24v24H0V0z\" fill=\"none\"/>\n",
       "    <path d=\"M18.56 5.44l.94 2.06.94-2.06 2.06-.94-2.06-.94-.94-2.06-.94 2.06-2.06.94zm-11 1L8.5 8.5l.94-2.06 2.06-.94-2.06-.94L8.5 2.5l-.94 2.06-2.06.94zm10 10l.94 2.06.94-2.06 2.06-.94-2.06-.94-.94-2.06-.94 2.06-2.06.94z\"/><path d=\"M17.41 7.96l-1.37-1.37c-.4-.4-.92-.59-1.43-.59-.52 0-1.04.2-1.43.59L10.3 9.45l-7.72 7.72c-.78.78-.78 2.05 0 2.83L4 21.41c.39.39.9.59 1.41.59.51 0 1.02-.2 1.41-.59l7.78-7.78 2.81-2.81c.8-.78.8-2.07 0-2.86zM5.41 20L4 18.59l7.72-7.72 1.47 1.35L5.41 20z\"/>\n",
       "  </svg>\n",
       "      </button>\n",
       "      \n",
       "  <style>\n",
       "    .colab-df-container {\n",
       "      display:flex;\n",
       "      flex-wrap:wrap;\n",
       "      gap: 12px;\n",
       "    }\n",
       "\n",
       "    .colab-df-convert {\n",
       "      background-color: #E8F0FE;\n",
       "      border: none;\n",
       "      border-radius: 50%;\n",
       "      cursor: pointer;\n",
       "      display: none;\n",
       "      fill: #1967D2;\n",
       "      height: 32px;\n",
       "      padding: 0 0 0 0;\n",
       "      width: 32px;\n",
       "    }\n",
       "\n",
       "    .colab-df-convert:hover {\n",
       "      background-color: #E2EBFA;\n",
       "      box-shadow: 0px 1px 2px rgba(60, 64, 67, 0.3), 0px 1px 3px 1px rgba(60, 64, 67, 0.15);\n",
       "      fill: #174EA6;\n",
       "    }\n",
       "\n",
       "    [theme=dark] .colab-df-convert {\n",
       "      background-color: #3B4455;\n",
       "      fill: #D2E3FC;\n",
       "    }\n",
       "\n",
       "    [theme=dark] .colab-df-convert:hover {\n",
       "      background-color: #434B5C;\n",
       "      box-shadow: 0px 1px 3px 1px rgba(0, 0, 0, 0.15);\n",
       "      filter: drop-shadow(0px 1px 2px rgba(0, 0, 0, 0.3));\n",
       "      fill: #FFFFFF;\n",
       "    }\n",
       "  </style>\n",
       "\n",
       "      <script>\n",
       "        const buttonEl =\n",
       "          document.querySelector('#df-42546953-b6af-454c-97f4-1c8e55b3f75d button.colab-df-convert');\n",
       "        buttonEl.style.display =\n",
       "          google.colab.kernel.accessAllowed ? 'block' : 'none';\n",
       "\n",
       "        async function convertToInteractive(key) {\n",
       "          const element = document.querySelector('#df-42546953-b6af-454c-97f4-1c8e55b3f75d');\n",
       "          const dataTable =\n",
       "            await google.colab.kernel.invokeFunction('convertToInteractive',\n",
       "                                                     [key], {});\n",
       "          if (!dataTable) return;\n",
       "\n",
       "          const docLinkHtml = 'Like what you see? Visit the ' +\n",
       "            '<a target=\"_blank\" href=https://colab.research.google.com/notebooks/data_table.ipynb>data table notebook</a>'\n",
       "            + ' to learn more about interactive tables.';\n",
       "          element.innerHTML = '';\n",
       "          dataTable['output_type'] = 'display_data';\n",
       "          await google.colab.output.renderOutput(dataTable, element);\n",
       "          const docLink = document.createElement('div');\n",
       "          docLink.innerHTML = docLinkHtml;\n",
       "          element.appendChild(docLink);\n",
       "        }\n",
       "      </script>\n",
       "    </div>\n",
       "  </div>\n",
       "  "
      ],
      "text/plain": [
       "                dates   weekday\n",
       "date                           \n",
       "2019-04-09 2019-04-09   Tuesday\n",
       "2019-04-08 2019-04-08    Monday\n",
       "2019-04-07 2019-04-07    Sunday\n",
       "2019-04-06 2019-04-06  Saturday\n",
       "2019-04-05 2019-04-05    Friday"
      ]
     },
     "execution_count": 12,
     "metadata": {},
     "output_type": "execute_result"
    }
   ],
   "source": [
    "# new column with dates from index\n",
    "data['dates'] = pd.to_datetime(data.index)\n",
    "# new column with days of week\n",
    "data['weekday'] = data['dates'].dt.day_name()\n",
    "\n",
    "# display new columns\n",
    "data[['dates', 'weekday']].tail()"
   ]
  },
  {
   "cell_type": "code",
   "execution_count": 13,
   "metadata": {
    "colab": {
     "base_uri": "https://localhost:8080/",
     "height": 227
    },
    "executionInfo": {
     "elapsed": 330,
     "status": "ok",
     "timestamp": 1640822626660,
     "user": {
      "displayName": "Marcin Sikorski",
      "photoUrl": "https://lh3.googleusercontent.com/a/default-user=s64",
      "userId": "11991808285549610170"
     },
     "user_tz": -60
    },
    "id": "8KpFhCdOlQ59",
    "outputId": "adcf477e-a4fd-462a-e5da-2ef101d10d2e"
   },
   "outputs": [
    {
     "data": {
      "image/png": "[encoded data removed]",
      "text/plain": [
       "<Figure size 504x216 with 1 Axes>"
      ]
     },
     "metadata": {
      "needs_background": "light"
     },
     "output_type": "display_data"
    }
   ],
   "source": [
    "# pivot table with avg values\n",
    "pivot_tab = pd.pivot_table(data, index=['weekday'], values=['diff_perc'], aggfunc='mean')\n",
    "# new column\n",
    "pivot_tab['weekday'] = pivot_tab.index\n",
    "\n",
    "# bar plot\n",
    "plt.figure(figsize=(7,3))\n",
    "plt.bar(x=pivot_tab['weekday'], height=pivot_tab['diff_perc'])\n",
    "plt.title('Average Percent Change by Weekday')\n",
    "plt.show()"
   ]
  },
  {
   "cell_type": "markdown",
   "metadata": {
    "id": "i0F44M7-WweF"
   },
   "source": [
    "It's surprising that all weekdays are trading days for cryptocurrencies. The stock market is closed on weekends, but it is not not the case for digital currencies. This is another property due to the fact that it is resistant to government interference. Tuesday may be the best day of the week to buy Ethereum stocks and Wednesday may be the best day for short selling them."
   ]
  },
  {
   "cell_type": "markdown",
   "metadata": {
    "id": "VeiT4Q1dj8dw"
   },
   "source": [
    "### 3. Introducing the Prophet Model\n",
    "\n",
    "<code>Prophet</code> is an open source time series forecasting package designed and used by Facebook's data science research team for ease of use without any expert knowledge in statistics or time series forecasting. It is recommended for time series that have strong seasonal effects and several seasons of historical data. The underlying algorithm is a generalized additive model where non linear trends are fit with yearly, weekly, and daily seasonality, plus holiday effects. It is great for stationary data. <code>Prophet</code> also does well with outliers and is robust to missing data and shifts in the trend.<br>\n",
    "The mathematical core equation behind the model is defined as:\n",
    "\n",
    "\\begin{aligned}\n",
    "y(t) = g(t) + s(t) + h(t) + ε(t)\n",
    "\\end{aligned}\n",
    "\n",
    "* where, g(t) represents growth or trend ;\n",
    "* s(t) represents periodic changes or seasonality (weekly, monthly, yearly);\n",
    "* h(t) represents the effects of holidays (special days that impact businesses);\n",
    "* &epsilon;(t) is the error term."
   ]
  },
  {
   "cell_type": "code",
   "execution_count": 14,
   "metadata": {
    "colab": {
     "base_uri": "https://localhost:8080/",
     "height": 206
    },
    "executionInfo": {
     "elapsed": 321,
     "status": "ok",
     "timestamp": 1640822640541,
     "user": {
      "displayName": "Marcin Sikorski",
      "photoUrl": "https://lh3.googleusercontent.com/a/default-user=s64",
      "userId": "11991808285549610170"
     },
     "user_tz": -60
    },
    "id": "frVAmzrMlVov",
    "outputId": "62e8fac8-5884-4ab6-9042-eb31bdb21ab1"
   },
   "outputs": [
    {
     "data": {
      "text/html": [
       "\n",
       "  <div id=\"df-5fa3ac7d-4ca4-4faf-a018-eee0bed1a5e1\">\n",
       "    <div class=\"colab-df-container\">\n",
       "      <div>\n",
       "<style scoped>\n",
       "    .dataframe tbody tr th:only-of-type {\n",
       "        vertical-align: middle;\n",
       "    }\n",
       "\n",
       "    .dataframe tbody tr th {\n",
       "        vertical-align: top;\n",
       "    }\n",
       "\n",
       "    .dataframe thead th {\n",
       "        text-align: right;\n",
       "    }\n",
       "</style>\n",
       "<table border=\"1\" class=\"dataframe\">\n",
       "  <thead>\n",
       "    <tr style=\"text-align: right;\">\n",
       "      <th></th>\n",
       "      <th>ds</th>\n",
       "      <th>y</th>\n",
       "    </tr>\n",
       "  </thead>\n",
       "  <tbody>\n",
       "    <tr>\n",
       "      <th>0</th>\n",
       "      <td>2021-12-29</td>\n",
       "      <td>15051.207600</td>\n",
       "    </tr>\n",
       "    <tr>\n",
       "      <th>1</th>\n",
       "      <td>2021-12-28</td>\n",
       "      <td>15353.810550</td>\n",
       "    </tr>\n",
       "    <tr>\n",
       "      <th>2</th>\n",
       "      <td>2021-12-27</td>\n",
       "      <td>16343.514486</td>\n",
       "    </tr>\n",
       "    <tr>\n",
       "      <th>3</th>\n",
       "      <td>2021-12-26</td>\n",
       "      <td>16450.103592</td>\n",
       "    </tr>\n",
       "    <tr>\n",
       "      <th>4</th>\n",
       "      <td>2021-12-25</td>\n",
       "      <td>16576.690806</td>\n",
       "    </tr>\n",
       "  </tbody>\n",
       "</table>\n",
       "</div>\n",
       "      <button class=\"colab-df-convert\" onclick=\"convertToInteractive('df-5fa3ac7d-4ca4-4faf-a018-eee0bed1a5e1')\"\n",
       "              title=\"Convert this dataframe to an interactive table.\"\n",
       "              style=\"display:none;\">\n",
       "        \n",
       "  <svg xmlns=\"http://www.w3.org/2000/svg\" height=\"24px\"viewBox=\"0 0 24 24\"\n",
       "       width=\"24px\">\n",
       "    <path d=\"M0 0h24v24H0V0z\" fill=\"none\"/>\n",
       "    <path d=\"M18.56 5.44l.94 2.06.94-2.06 2.06-.94-2.06-.94-.94-2.06-.94 2.06-2.06.94zm-11 1L8.5 8.5l.94-2.06 2.06-.94-2.06-.94L8.5 2.5l-.94 2.06-2.06.94zm10 10l.94 2.06.94-2.06 2.06-.94-2.06-.94-.94-2.06-.94 2.06-2.06.94z\"/><path d=\"M17.41 7.96l-1.37-1.37c-.4-.4-.92-.59-1.43-.59-.52 0-1.04.2-1.43.59L10.3 9.45l-7.72 7.72c-.78.78-.78 2.05 0 2.83L4 21.41c.39.39.9.59 1.41.59.51 0 1.02-.2 1.41-.59l7.78-7.78 2.81-2.81c.8-.78.8-2.07 0-2.86zM5.41 20L4 18.59l7.72-7.72 1.47 1.35L5.41 20z\"/>\n",
       "  </svg>\n",
       "      </button>\n",
       "      \n",
       "  <style>\n",
       "    .colab-df-container {\n",
       "      display:flex;\n",
       "      flex-wrap:wrap;\n",
       "      gap: 12px;\n",
       "    }\n",
       "\n",
       "    .colab-df-convert {\n",
       "      background-color: #E8F0FE;\n",
       "      border: none;\n",
       "      border-radius: 50%;\n",
       "      cursor: pointer;\n",
       "      display: none;\n",
       "      fill: #1967D2;\n",
       "      height: 32px;\n",
       "      padding: 0 0 0 0;\n",
       "      width: 32px;\n",
       "    }\n",
       "\n",
       "    .colab-df-convert:hover {\n",
       "      background-color: #E2EBFA;\n",
       "      box-shadow: 0px 1px 2px rgba(60, 64, 67, 0.3), 0px 1px 3px 1px rgba(60, 64, 67, 0.15);\n",
       "      fill: #174EA6;\n",
       "    }\n",
       "\n",
       "    [theme=dark] .colab-df-convert {\n",
       "      background-color: #3B4455;\n",
       "      fill: #D2E3FC;\n",
       "    }\n",
       "\n",
       "    [theme=dark] .colab-df-convert:hover {\n",
       "      background-color: #434B5C;\n",
       "      box-shadow: 0px 1px 3px 1px rgba(0, 0, 0, 0.15);\n",
       "      filter: drop-shadow(0px 1px 2px rgba(0, 0, 0, 0.3));\n",
       "      fill: #FFFFFF;\n",
       "    }\n",
       "  </style>\n",
       "\n",
       "      <script>\n",
       "        const buttonEl =\n",
       "          document.querySelector('#df-5fa3ac7d-4ca4-4faf-a018-eee0bed1a5e1 button.colab-df-convert');\n",
       "        buttonEl.style.display =\n",
       "          google.colab.kernel.accessAllowed ? 'block' : 'none';\n",
       "\n",
       "        async function convertToInteractive(key) {\n",
       "          const element = document.querySelector('#df-5fa3ac7d-4ca4-4faf-a018-eee0bed1a5e1');\n",
       "          const dataTable =\n",
       "            await google.colab.kernel.invokeFunction('convertToInteractive',\n",
       "                                                     [key], {});\n",
       "          if (!dataTable) return;\n",
       "\n",
       "          const docLinkHtml = 'Like what you see? Visit the ' +\n",
       "            '<a target=\"_blank\" href=https://colab.research.google.com/notebooks/data_table.ipynb>data table notebook</a>'\n",
       "            + ' to learn more about interactive tables.';\n",
       "          element.innerHTML = '';\n",
       "          dataTable['output_type'] = 'display_data';\n",
       "          await google.colab.output.renderOutput(dataTable, element);\n",
       "          const docLink = document.createElement('div');\n",
       "          docLink.innerHTML = docLinkHtml;\n",
       "          element.appendChild(docLink);\n",
       "        }\n",
       "      </script>\n",
       "    </div>\n",
       "  </div>\n",
       "  "
      ],
      "text/plain": [
       "          ds             y\n",
       "0 2021-12-29  15051.207600\n",
       "1 2021-12-28  15353.810550\n",
       "2 2021-12-27  16343.514486\n",
       "3 2021-12-26  16450.103592\n",
       "4 2021-12-25  16576.690806"
      ]
     },
     "execution_count": 14,
     "metadata": {},
     "output_type": "execute_result"
    }
   ],
   "source": [
    "# extracting close prices\n",
    "df = data[['close_pln']]\n",
    "df.reset_index(inplace=True)\n",
    "\n",
    "# Prophet requires specific column names: ds and y\n",
    "df.columns = ['ds', 'y']\n",
    "df.head()"
   ]
  },
  {
   "cell_type": "markdown",
   "metadata": {
    "id": "aLh5c-QrBggF"
   },
   "source": [
    "We can tune our model to make it more accurate by adding regressors, noises and other factors. For instance, we can assume that weather tempature has an impact on grill or bicycle sales. Another example can be vacation schedules or school breaks which repeat each year. Custom regressors can be added to the linear part of the model using the <code>add_regressor</code> method. We don't have any knowledge about external effects for Ethereum, so we will fit our model without them. With <code>add_seasonality</code> function, we can add other custom season patterns.\n",
    "\n",
    "<code>Prophet</code> also allows us to model holidays and special events (Black Friday, sport events). We know *a priori* that holidays affect stock market -  mostly public holidays are followed by significant post holiday price drifts. We will pass Polish holidays in a dataframe and implement it for modelling."
   ]
  },
  {
   "cell_type": "code",
   "execution_count": 15,
   "metadata": {
    "colab": {
     "base_uri": "https://localhost:8080/"
    },
    "executionInfo": {
     "elapsed": 300,
     "status": "ok",
     "timestamp": 1640822645258,
     "user": {
      "displayName": "Marcin Sikorski",
      "photoUrl": "https://lh3.googleusercontent.com/a/default-user=s64",
      "userId": "11991808285549610170"
     },
     "user_tz": -60
    },
    "id": "XjW8Ur8RtQPv",
    "outputId": "d03323ee-811c-4f24-da2d-12affc63677e"
   },
   "outputs": [
    {
     "name": "stdout",
     "output_type": "stream",
     "text": [
      "2019-01-01 Nowy Rok\n",
      "2019-01-06 Święto Trzech Króli\n",
      "2019-04-21 Niedziela Wielkanocna\n",
      "2019-04-22 Poniedziałek Wielkanocny\n",
      "2019-05-01 Święto Państwowe\n",
      "2019-05-03 Święto Narodowe Trzeciego Maja\n",
      "2019-06-09 Zielone Świątki\n",
      "2019-06-20 Dzień Bożego Ciała\n",
      "2019-08-15 Wniebowzięcie Najświętszej Marii Panny\n",
      "2019-11-01 Uroczystość Wszystkich świętych\n",
      "2019-11-11 Narodowe Święto Niepodległości\n",
      "2019-12-25 Boże Narodzenie (pierwszy dzień)\n",
      "2019-12-26 Boże Narodzenie (drugi dzień)\n",
      "2020-01-01 Nowy Rok\n",
      "2020-01-06 Święto Trzech Króli\n",
      "2020-04-12 Niedziela Wielkanocna\n",
      "2020-04-13 Poniedziałek Wielkanocny\n",
      "2020-05-01 Święto Państwowe\n",
      "2020-05-03 Święto Narodowe Trzeciego Maja\n",
      "2020-05-31 Zielone Świątki\n",
      "2020-06-11 Dzień Bożego Ciała\n",
      "2020-08-15 Wniebowzięcie Najświętszej Marii Panny\n",
      "2020-11-01 Uroczystość Wszystkich świętych\n",
      "2020-11-11 Narodowe Święto Niepodległości\n",
      "2020-12-25 Boże Narodzenie (pierwszy dzień)\n",
      "2020-12-26 Boże Narodzenie (drugi dzień)\n",
      "2021-01-01 Nowy Rok\n",
      "2021-01-06 Święto Trzech Króli\n",
      "2021-04-04 Niedziela Wielkanocna\n",
      "2021-04-05 Poniedziałek Wielkanocny\n",
      "2021-05-01 Święto Państwowe\n",
      "2021-05-03 Święto Narodowe Trzeciego Maja\n",
      "2021-05-23 Zielone Świątki\n",
      "2021-06-03 Dzień Bożego Ciała\n",
      "2021-08-15 Wniebowzięcie Najświętszej Marii Panny\n",
      "2021-11-01 Uroczystość Wszystkich świętych\n",
      "2021-11-11 Narodowe Święto Niepodległości\n",
      "2021-12-25 Boże Narodzenie (pierwszy dzień)\n",
      "2021-12-26 Boże Narodzenie (drugi dzień)\n",
      "2022-01-01 Nowy Rok\n",
      "2022-01-06 Święto Trzech Króli\n",
      "2022-04-17 Niedziela Wielkanocna\n",
      "2022-04-18 Poniedziałek Wielkanocny\n",
      "2022-05-01 Święto Państwowe\n",
      "2022-05-03 Święto Narodowe Trzeciego Maja\n",
      "2022-06-05 Zielone Świątki\n",
      "2022-06-16 Dzień Bożego Ciała\n",
      "2022-08-15 Wniebowzięcie Najświętszej Marii Panny\n",
      "2022-11-01 Uroczystość Wszystkich świętych\n",
      "2022-11-11 Narodowe Święto Niepodległości\n",
      "2022-12-25 Boże Narodzenie (pierwszy dzień)\n",
      "2022-12-26 Boże Narodzenie (drugi dzień)\n"
     ]
    }
   ],
   "source": [
    "import holidays\n",
    "\n",
    "# list of years ranged in time series\n",
    "years = [2019, 2020, 2021, 2022]\n",
    "\n",
    "# display holidays\n",
    "for date in holidays.Poland(years=years).items():\n",
    "    print(str(date[0]) + ' ' + str(date[1]))"
   ]
  },
  {
   "cell_type": "code",
   "execution_count": 16,
   "metadata": {
    "colab": {
     "base_uri": "https://localhost:8080/",
     "height": 206
    },
    "executionInfo": {
     "elapsed": 302,
     "status": "ok",
     "timestamp": 1640822649067,
     "user": {
      "displayName": "Marcin Sikorski",
      "photoUrl": "https://lh3.googleusercontent.com/a/default-user=s64",
      "userId": "11991808285549610170"
     },
     "user_tz": -60
    },
    "id": "2OeCxm5NOLOz",
    "outputId": "a6fcfef6-f923-4f55-f872-f1618a0c6e3c"
   },
   "outputs": [
    {
     "data": {
      "text/html": [
       "\n",
       "  <div id=\"df-4c6de73e-8d69-4011-b27b-1c5dfc396091\">\n",
       "    <div class=\"colab-df-container\">\n",
       "      <div>\n",
       "<style scoped>\n",
       "    .dataframe tbody tr th:only-of-type {\n",
       "        vertical-align: middle;\n",
       "    }\n",
       "\n",
       "    .dataframe tbody tr th {\n",
       "        vertical-align: top;\n",
       "    }\n",
       "\n",
       "    .dataframe thead th {\n",
       "        text-align: right;\n",
       "    }\n",
       "</style>\n",
       "<table border=\"1\" class=\"dataframe\">\n",
       "  <thead>\n",
       "    <tr style=\"text-align: right;\">\n",
       "      <th></th>\n",
       "      <th>ds</th>\n",
       "      <th>holiday</th>\n",
       "    </tr>\n",
       "  </thead>\n",
       "  <tbody>\n",
       "    <tr>\n",
       "      <th>0</th>\n",
       "      <td>2019-01-01</td>\n",
       "      <td>Nowy Rok</td>\n",
       "    </tr>\n",
       "    <tr>\n",
       "      <th>1</th>\n",
       "      <td>2019-01-06</td>\n",
       "      <td>Święto Trzech Króli</td>\n",
       "    </tr>\n",
       "    <tr>\n",
       "      <th>2</th>\n",
       "      <td>2019-04-21</td>\n",
       "      <td>Niedziela Wielkanocna</td>\n",
       "    </tr>\n",
       "    <tr>\n",
       "      <th>3</th>\n",
       "      <td>2019-04-22</td>\n",
       "      <td>Poniedziałek Wielkanocny</td>\n",
       "    </tr>\n",
       "    <tr>\n",
       "      <th>4</th>\n",
       "      <td>2019-05-01</td>\n",
       "      <td>Święto Państwowe</td>\n",
       "    </tr>\n",
       "  </tbody>\n",
       "</table>\n",
       "</div>\n",
       "      <button class=\"colab-df-convert\" onclick=\"convertToInteractive('df-4c6de73e-8d69-4011-b27b-1c5dfc396091')\"\n",
       "              title=\"Convert this dataframe to an interactive table.\"\n",
       "              style=\"display:none;\">\n",
       "        \n",
       "  <svg xmlns=\"http://www.w3.org/2000/svg\" height=\"24px\"viewBox=\"0 0 24 24\"\n",
       "       width=\"24px\">\n",
       "    <path d=\"M0 0h24v24H0V0z\" fill=\"none\"/>\n",
       "    <path d=\"M18.56 5.44l.94 2.06.94-2.06 2.06-.94-2.06-.94-.94-2.06-.94 2.06-2.06.94zm-11 1L8.5 8.5l.94-2.06 2.06-.94-2.06-.94L8.5 2.5l-.94 2.06-2.06.94zm10 10l.94 2.06.94-2.06 2.06-.94-2.06-.94-.94-2.06-.94 2.06-2.06.94z\"/><path d=\"M17.41 7.96l-1.37-1.37c-.4-.4-.92-.59-1.43-.59-.52 0-1.04.2-1.43.59L10.3 9.45l-7.72 7.72c-.78.78-.78 2.05 0 2.83L4 21.41c.39.39.9.59 1.41.59.51 0 1.02-.2 1.41-.59l7.78-7.78 2.81-2.81c.8-.78.8-2.07 0-2.86zM5.41 20L4 18.59l7.72-7.72 1.47 1.35L5.41 20z\"/>\n",
       "  </svg>\n",
       "      </button>\n",
       "      \n",
       "  <style>\n",
       "    .colab-df-container {\n",
       "      display:flex;\n",
       "      flex-wrap:wrap;\n",
       "      gap: 12px;\n",
       "    }\n",
       "\n",
       "    .colab-df-convert {\n",
       "      background-color: #E8F0FE;\n",
       "      border: none;\n",
       "      border-radius: 50%;\n",
       "      cursor: pointer;\n",
       "      display: none;\n",
       "      fill: #1967D2;\n",
       "      height: 32px;\n",
       "      padding: 0 0 0 0;\n",
       "      width: 32px;\n",
       "    }\n",
       "\n",
       "    .colab-df-convert:hover {\n",
       "      background-color: #E2EBFA;\n",
       "      box-shadow: 0px 1px 2px rgba(60, 64, 67, 0.3), 0px 1px 3px 1px rgba(60, 64, 67, 0.15);\n",
       "      fill: #174EA6;\n",
       "    }\n",
       "\n",
       "    [theme=dark] .colab-df-convert {\n",
       "      background-color: #3B4455;\n",
       "      fill: #D2E3FC;\n",
       "    }\n",
       "\n",
       "    [theme=dark] .colab-df-convert:hover {\n",
       "      background-color: #434B5C;\n",
       "      box-shadow: 0px 1px 3px 1px rgba(0, 0, 0, 0.15);\n",
       "      filter: drop-shadow(0px 1px 2px rgba(0, 0, 0, 0.3));\n",
       "      fill: #FFFFFF;\n",
       "    }\n",
       "  </style>\n",
       "\n",
       "      <script>\n",
       "        const buttonEl =\n",
       "          document.querySelector('#df-4c6de73e-8d69-4011-b27b-1c5dfc396091 button.colab-df-convert');\n",
       "        buttonEl.style.display =\n",
       "          google.colab.kernel.accessAllowed ? 'block' : 'none';\n",
       "\n",
       "        async function convertToInteractive(key) {\n",
       "          const element = document.querySelector('#df-4c6de73e-8d69-4011-b27b-1c5dfc396091');\n",
       "          const dataTable =\n",
       "            await google.colab.kernel.invokeFunction('convertToInteractive',\n",
       "                                                     [key], {});\n",
       "          if (!dataTable) return;\n",
       "\n",
       "          const docLinkHtml = 'Like what you see? Visit the ' +\n",
       "            '<a target=\"_blank\" href=https://colab.research.google.com/notebooks/data_table.ipynb>data table notebook</a>'\n",
       "            + ' to learn more about interactive tables.';\n",
       "          element.innerHTML = '';\n",
       "          dataTable['output_type'] = 'display_data';\n",
       "          await google.colab.output.renderOutput(dataTable, element);\n",
       "          const docLink = document.createElement('div');\n",
       "          docLink.innerHTML = docLinkHtml;\n",
       "          element.appendChild(docLink);\n",
       "        }\n",
       "      </script>\n",
       "    </div>\n",
       "  </div>\n",
       "  "
      ],
      "text/plain": [
       "           ds                   holiday\n",
       "0  2019-01-01                  Nowy Rok\n",
       "1  2019-01-06       Święto Trzech Króli\n",
       "2  2019-04-21     Niedziela Wielkanocna\n",
       "3  2019-04-22  Poniedziałek Wielkanocny\n",
       "4  2019-05-01          Święto Państwowe"
      ]
     },
     "execution_count": 16,
     "metadata": {},
     "output_type": "execute_result"
    }
   ],
   "source": [
    "# create dataframe with Polish holidays\n",
    "dates = []\n",
    "names = []\n",
    "\n",
    "for date in holidays.Poland(years=years).items():\n",
    "    dates.append(str(date[0]))\n",
    "    names.append(str(date[1]))\n",
    "\n",
    "# columns must be named: ds and holiday\n",
    "pl_holidays = pd.DataFrame(list(zip(dates, names)), columns =['ds', 'holiday'])\n",
    "pl_holidays.head()"
   ]
  },
  {
   "cell_type": "markdown",
   "metadata": {
    "id": "zYH6gAwHcFYH"
   },
   "source": [
    "### 4. Developing the Predictive Model and Visualizing Results\n",
    "\n",
    "After creating dataframe with holidays, it's time to implement our model and define it's arguments. Stock price behavior is the classic example of a stochastic model. Business time series often have multi period seasonality as a result of the human behaviors they represent. Our model is more likely multiplicative due to the fact that seasonal pattern increases or decreases as the data values increase or decrease.\n",
    "\n",
    "From previous plots we can accept our examined time series has yearly and monthly seasonality. Monthly patterns will be added as custom. The default Fourier order for yearly seasonality is 10. Since it is hard to find any other data patterns, we will leave reamaining seasonalities as default.\n",
    "\n",
    "We will leave the <code>growth</code> argument undefined - there is no linear or logistic growth.<br>\n",
    "The model will output a predicted value as well as the lower and upper bounds of the uncertainty (or confidence) interval. We will increase the threshold in order to increase accuracy of the interval. The uncertainty interval width will be set to 0.95, meaning that the uncertainty interval will cover only 95% of the samples."
   ]
  },
  {
   "cell_type": "code",
   "execution_count": 17,
   "metadata": {
    "colab": {
     "base_uri": "https://localhost:8080/"
    },
    "executionInfo": {
     "elapsed": 1744,
     "status": "ok",
     "timestamp": 1640822653911,
     "user": {
      "displayName": "Marcin Sikorski",
      "photoUrl": "https://lh3.googleusercontent.com/a/default-user=s64",
      "userId": "11991808285549610170"
     },
     "user_tz": -60
    },
    "id": "uyj_6icCOy9C",
    "outputId": "406862af-e70d-4572-de3f-b68d51bd0e2c"
   },
   "outputs": [
    {
     "data": {
      "text/plain": [
       "<fbprophet.forecaster.Prophet at 0x7fef226fb850>"
      ]
     },
     "execution_count": 17,
     "metadata": {},
     "output_type": "execute_result"
    }
   ],
   "source": [
    "from fbprophet import Prophet\n",
    "\n",
    "# passing model parameters\n",
    "model = Prophet(interval_width=0.95,\n",
    "                seasonality_mode='multiplicative',\n",
    "                yearly_seasonality=True,\n",
    "                #weekly_seasonality='auto',\n",
    "                #daily_seasonality='auto',\n",
    "                #growth='logistic',\n",
    "                #mcmc_samples=0,\n",
    "                #stan_backend=0,\n",
    "                holidays=pl_holidays)\n",
    "\n",
    "# add monthly seasonality\n",
    "model.add_seasonality(name='custom_monthly', period=30.5, fourier_order=10)"
   ]
  },
  {
   "cell_type": "markdown",
   "metadata": {
    "id": "d3N3yDadS5a6"
   },
   "source": [
    "Unlike other machine learning methods, <code>Prophet</code> doesn't require splitting data into train and test sets. Instead, it uses all historical observations and then ask the model to predict future values."
   ]
  },
  {
   "cell_type": "code",
   "execution_count": 18,
   "metadata": {
    "colab": {
     "base_uri": "https://localhost:8080/"
    },
    "executionInfo": {
     "elapsed": 2060,
     "status": "ok",
     "timestamp": 1640822658305,
     "user": {
      "displayName": "Marcin Sikorski",
      "photoUrl": "https://lh3.googleusercontent.com/a/default-user=s64",
      "userId": "11991808285549610170"
     },
     "user_tz": -60
    },
    "id": "OBLf95Zewh8D",
    "outputId": "fe815ec1-a751-4499-c8c5-98b7ea909112"
   },
   "outputs": [
    {
     "name": "stderr",
     "output_type": "stream",
     "text": [
      "INFO:fbprophet:Disabling daily seasonality. Run prophet with daily_seasonality=True to override this.\n"
     ]
    },
    {
     "data": {
      "text/plain": [
       "{'additive': ['additive_terms', 'extra_regressors_additive'],\n",
       " 'multiplicative': ['custom_monthly',\n",
       "  'yearly',\n",
       "  'weekly',\n",
       "  'Nowy Rok',\n",
       "  'Święto Trzech Króli',\n",
       "  'Niedziela Wielkanocna',\n",
       "  'Poniedziałek Wielkanocny',\n",
       "  'Święto Państwowe',\n",
       "  'Święto Narodowe Trzeciego Maja',\n",
       "  'Zielone Świątki',\n",
       "  'Dzień Bożego Ciała',\n",
       "  'Wniebowzięcie Najświętszej Marii Panny',\n",
       "  'Uroczystość Wszystkich świętych',\n",
       "  'Narodowe Święto Niepodległości',\n",
       "  'Boże Narodzenie (pierwszy dzień)',\n",
       "  'Boże Narodzenie (drugi dzień)',\n",
       "  'multiplicative_terms',\n",
       "  'extra_regressors_multiplicative',\n",
       "  'holidays']}"
      ]
     },
     "execution_count": 18,
     "metadata": {},
     "output_type": "execute_result"
    }
   ],
   "source": [
    "# fitting the model\n",
    "model.fit(df)\n",
    "# display implemented components\n",
    "model.component_modes"
   ]
  },
  {
   "cell_type": "markdown",
   "metadata": {
    "id": "xtZ1goX-CwPF"
   },
   "source": [
    "First, we will make a prediction on historical data (an in sample forecast). Reviewing the results can give insight into how good the model is. Ideally, the new computed data should overlay historical data.<br>\n",
    "The result of the <code>predict</code> function is a very detailed dataset. We are mostly interested in columns: <code>ds</code> (forecasted date) and <code>yhat</code> (forecasted value). Other columns contain information about: trend, lower and upper bounds, seasonality terms, e.t.c."
   ]
  },
  {
   "cell_type": "code",
   "execution_count": 19,
   "metadata": {
    "executionInfo": {
     "elapsed": 9250,
     "status": "ok",
     "timestamp": 1640822670850,
     "user": {
      "displayName": "Marcin Sikorski",
      "photoUrl": "https://lh3.googleusercontent.com/a/default-user=s64",
      "userId": "11991808285549610170"
     },
     "user_tz": -60
    },
    "id": "ltkt8MYxyGtm"
   },
   "outputs": [],
   "source": [
    "# make an in-sample forecast\n",
    "# include_history=False - does not save historical data in dataframe\n",
    "in_sample = model.make_future_dataframe(periods=0, freq='D', include_history=True)\n",
    "pred = model.predict(in_sample)"
   ]
  },
  {
   "cell_type": "code",
   "execution_count": 20,
   "metadata": {
    "colab": {
     "base_uri": "https://localhost:8080/",
     "height": 322
    },
    "executionInfo": {
     "elapsed": 811,
     "status": "ok",
     "timestamp": 1640822673752,
     "user": {
      "displayName": "Marcin Sikorski",
      "photoUrl": "https://lh3.googleusercontent.com/a/default-user=s64",
      "userId": "11991808285549610170"
     },
     "user_tz": -60
    },
    "id": "vJjyHj35Vp3z",
    "outputId": "dd8b4bae-de72-4da9-e8c4-ed2742c19238"
   },
   "outputs": [
    {
     "data": {
      "text/html": [
       "\n",
       "  <div id=\"df-f9e71d83-dd37-4a4c-8d28-861925c87101\">\n",
       "    <div class=\"colab-df-container\">\n",
       "      <div>\n",
       "<style scoped>\n",
       "    .dataframe tbody tr th:only-of-type {\n",
       "        vertical-align: middle;\n",
       "    }\n",
       "\n",
       "    .dataframe tbody tr th {\n",
       "        vertical-align: top;\n",
       "    }\n",
       "\n",
       "    .dataframe thead th {\n",
       "        text-align: right;\n",
       "    }\n",
       "</style>\n",
       "<table border=\"1\" class=\"dataframe\">\n",
       "  <thead>\n",
       "    <tr style=\"text-align: right;\">\n",
       "      <th></th>\n",
       "      <th>ds</th>\n",
       "      <th>y</th>\n",
       "      <th>trend</th>\n",
       "      <th>yhat_lower</th>\n",
       "      <th>yhat_upper</th>\n",
       "      <th>trend_lower</th>\n",
       "      <th>trend_upper</th>\n",
       "      <th>Boże Narodzenie (drugi dzień)</th>\n",
       "      <th>Boże Narodzenie (drugi dzień)_lower</th>\n",
       "      <th>Boże Narodzenie (drugi dzień)_upper</th>\n",
       "      <th>Boże Narodzenie (pierwszy dzień)</th>\n",
       "      <th>Boże Narodzenie (pierwszy dzień)_lower</th>\n",
       "      <th>Boże Narodzenie (pierwszy dzień)_upper</th>\n",
       "      <th>Dzień Bożego Ciała</th>\n",
       "      <th>Dzień Bożego Ciała_lower</th>\n",
       "      <th>Dzień Bożego Ciała_upper</th>\n",
       "      <th>Narodowe Święto Niepodległości</th>\n",
       "      <th>Narodowe Święto Niepodległości_lower</th>\n",
       "      <th>Narodowe Święto Niepodległości_upper</th>\n",
       "      <th>Niedziela Wielkanocna</th>\n",
       "      <th>Niedziela Wielkanocna_lower</th>\n",
       "      <th>Niedziela Wielkanocna_upper</th>\n",
       "      <th>Nowy Rok</th>\n",
       "      <th>Nowy Rok_lower</th>\n",
       "      <th>Nowy Rok_upper</th>\n",
       "      <th>Poniedziałek Wielkanocny</th>\n",
       "      <th>Poniedziałek Wielkanocny_lower</th>\n",
       "      <th>Poniedziałek Wielkanocny_upper</th>\n",
       "      <th>Uroczystość Wszystkich świętych</th>\n",
       "      <th>Uroczystość Wszystkich świętych_lower</th>\n",
       "      <th>Uroczystość Wszystkich świętych_upper</th>\n",
       "      <th>Wniebowzięcie Najświętszej Marii Panny</th>\n",
       "      <th>Wniebowzięcie Najświętszej Marii Panny_lower</th>\n",
       "      <th>Wniebowzięcie Najświętszej Marii Panny_upper</th>\n",
       "      <th>Zielone Świątki</th>\n",
       "      <th>Zielone Świątki_lower</th>\n",
       "      <th>Zielone Świątki_upper</th>\n",
       "      <th>custom_monthly</th>\n",
       "      <th>custom_monthly_lower</th>\n",
       "      <th>custom_monthly_upper</th>\n",
       "      <th>holidays</th>\n",
       "      <th>holidays_lower</th>\n",
       "      <th>holidays_upper</th>\n",
       "      <th>multiplicative_terms</th>\n",
       "      <th>multiplicative_terms_lower</th>\n",
       "      <th>multiplicative_terms_upper</th>\n",
       "      <th>weekly</th>\n",
       "      <th>weekly_lower</th>\n",
       "      <th>weekly_upper</th>\n",
       "      <th>yearly</th>\n",
       "      <th>yearly_lower</th>\n",
       "      <th>yearly_upper</th>\n",
       "      <th>Święto Narodowe Trzeciego Maja</th>\n",
       "      <th>Święto Narodowe Trzeciego Maja_lower</th>\n",
       "      <th>Święto Narodowe Trzeciego Maja_upper</th>\n",
       "      <th>Święto Państwowe</th>\n",
       "      <th>Święto Państwowe_lower</th>\n",
       "      <th>Święto Państwowe_upper</th>\n",
       "      <th>Święto Trzech Króli</th>\n",
       "      <th>Święto Trzech Króli_lower</th>\n",
       "      <th>Święto Trzech Króli_upper</th>\n",
       "      <th>additive_terms</th>\n",
       "      <th>additive_terms_lower</th>\n",
       "      <th>additive_terms_upper</th>\n",
       "      <th>yhat</th>\n",
       "    </tr>\n",
       "  </thead>\n",
       "  <tbody>\n",
       "    <tr>\n",
       "      <th>0</th>\n",
       "      <td>2021-12-29</td>\n",
       "      <td>15051.207600</td>\n",
       "      <td>19531.586978</td>\n",
       "      <td>16169.370273</td>\n",
       "      <td>17834.500552</td>\n",
       "      <td>19531.586978</td>\n",
       "      <td>19531.586978</td>\n",
       "      <td>0.000000</td>\n",
       "      <td>0.000000</td>\n",
       "      <td>0.000000</td>\n",
       "      <td>0.000000</td>\n",
       "      <td>0.000000</td>\n",
       "      <td>0.000000</td>\n",
       "      <td>0.0</td>\n",
       "      <td>0.0</td>\n",
       "      <td>0.0</td>\n",
       "      <td>0.0</td>\n",
       "      <td>0.0</td>\n",
       "      <td>0.0</td>\n",
       "      <td>0.0</td>\n",
       "      <td>0.0</td>\n",
       "      <td>0.0</td>\n",
       "      <td>0.0</td>\n",
       "      <td>0.0</td>\n",
       "      <td>0.0</td>\n",
       "      <td>0.0</td>\n",
       "      <td>0.0</td>\n",
       "      <td>0.0</td>\n",
       "      <td>0.0</td>\n",
       "      <td>0.0</td>\n",
       "      <td>0.0</td>\n",
       "      <td>0.0</td>\n",
       "      <td>0.0</td>\n",
       "      <td>0.0</td>\n",
       "      <td>0.0</td>\n",
       "      <td>0.0</td>\n",
       "      <td>0.0</td>\n",
       "      <td>-0.056758</td>\n",
       "      <td>-0.056758</td>\n",
       "      <td>-0.056758</td>\n",
       "      <td>0.000000</td>\n",
       "      <td>0.000000</td>\n",
       "      <td>0.000000</td>\n",
       "      <td>-0.129993</td>\n",
       "      <td>-0.129993</td>\n",
       "      <td>-0.129993</td>\n",
       "      <td>0.001731</td>\n",
       "      <td>0.001731</td>\n",
       "      <td>0.001731</td>\n",
       "      <td>-0.074966</td>\n",
       "      <td>-0.074966</td>\n",
       "      <td>-0.074966</td>\n",
       "      <td>0.0</td>\n",
       "      <td>0.0</td>\n",
       "      <td>0.0</td>\n",
       "      <td>0.0</td>\n",
       "      <td>0.0</td>\n",
       "      <td>0.0</td>\n",
       "      <td>0.0</td>\n",
       "      <td>0.0</td>\n",
       "      <td>0.0</td>\n",
       "      <td>0.0</td>\n",
       "      <td>0.0</td>\n",
       "      <td>0.0</td>\n",
       "      <td>16992.620817</td>\n",
       "    </tr>\n",
       "    <tr>\n",
       "      <th>1</th>\n",
       "      <td>2021-12-28</td>\n",
       "      <td>15353.810550</td>\n",
       "      <td>19487.911894</td>\n",
       "      <td>15331.973843</td>\n",
       "      <td>16897.387436</td>\n",
       "      <td>19487.911894</td>\n",
       "      <td>19487.911894</td>\n",
       "      <td>0.000000</td>\n",
       "      <td>0.000000</td>\n",
       "      <td>0.000000</td>\n",
       "      <td>0.000000</td>\n",
       "      <td>0.000000</td>\n",
       "      <td>0.000000</td>\n",
       "      <td>0.0</td>\n",
       "      <td>0.0</td>\n",
       "      <td>0.0</td>\n",
       "      <td>0.0</td>\n",
       "      <td>0.0</td>\n",
       "      <td>0.0</td>\n",
       "      <td>0.0</td>\n",
       "      <td>0.0</td>\n",
       "      <td>0.0</td>\n",
       "      <td>0.0</td>\n",
       "      <td>0.0</td>\n",
       "      <td>0.0</td>\n",
       "      <td>0.0</td>\n",
       "      <td>0.0</td>\n",
       "      <td>0.0</td>\n",
       "      <td>0.0</td>\n",
       "      <td>0.0</td>\n",
       "      <td>0.0</td>\n",
       "      <td>0.0</td>\n",
       "      <td>0.0</td>\n",
       "      <td>0.0</td>\n",
       "      <td>0.0</td>\n",
       "      <td>0.0</td>\n",
       "      <td>0.0</td>\n",
       "      <td>-0.076639</td>\n",
       "      <td>-0.076639</td>\n",
       "      <td>-0.076639</td>\n",
       "      <td>0.000000</td>\n",
       "      <td>0.000000</td>\n",
       "      <td>0.000000</td>\n",
       "      <td>-0.172317</td>\n",
       "      <td>-0.172317</td>\n",
       "      <td>-0.172317</td>\n",
       "      <td>-0.006379</td>\n",
       "      <td>-0.006379</td>\n",
       "      <td>-0.006379</td>\n",
       "      <td>-0.089299</td>\n",
       "      <td>-0.089299</td>\n",
       "      <td>-0.089299</td>\n",
       "      <td>0.0</td>\n",
       "      <td>0.0</td>\n",
       "      <td>0.0</td>\n",
       "      <td>0.0</td>\n",
       "      <td>0.0</td>\n",
       "      <td>0.0</td>\n",
       "      <td>0.0</td>\n",
       "      <td>0.0</td>\n",
       "      <td>0.0</td>\n",
       "      <td>0.0</td>\n",
       "      <td>0.0</td>\n",
       "      <td>0.0</td>\n",
       "      <td>16129.821089</td>\n",
       "    </tr>\n",
       "    <tr>\n",
       "      <th>2</th>\n",
       "      <td>2021-12-27</td>\n",
       "      <td>16343.514486</td>\n",
       "      <td>19444.236810</td>\n",
       "      <td>15351.965882</td>\n",
       "      <td>17014.347976</td>\n",
       "      <td>19444.236810</td>\n",
       "      <td>19444.236810</td>\n",
       "      <td>0.000000</td>\n",
       "      <td>0.000000</td>\n",
       "      <td>0.000000</td>\n",
       "      <td>0.000000</td>\n",
       "      <td>0.000000</td>\n",
       "      <td>0.000000</td>\n",
       "      <td>0.0</td>\n",
       "      <td>0.0</td>\n",
       "      <td>0.0</td>\n",
       "      <td>0.0</td>\n",
       "      <td>0.0</td>\n",
       "      <td>0.0</td>\n",
       "      <td>0.0</td>\n",
       "      <td>0.0</td>\n",
       "      <td>0.0</td>\n",
       "      <td>0.0</td>\n",
       "      <td>0.0</td>\n",
       "      <td>0.0</td>\n",
       "      <td>0.0</td>\n",
       "      <td>0.0</td>\n",
       "      <td>0.0</td>\n",
       "      <td>0.0</td>\n",
       "      <td>0.0</td>\n",
       "      <td>0.0</td>\n",
       "      <td>0.0</td>\n",
       "      <td>0.0</td>\n",
       "      <td>0.0</td>\n",
       "      <td>0.0</td>\n",
       "      <td>0.0</td>\n",
       "      <td>0.0</td>\n",
       "      <td>-0.061358</td>\n",
       "      <td>-0.061358</td>\n",
       "      <td>-0.061358</td>\n",
       "      <td>0.000000</td>\n",
       "      <td>0.000000</td>\n",
       "      <td>0.000000</td>\n",
       "      <td>-0.164890</td>\n",
       "      <td>-0.164890</td>\n",
       "      <td>-0.164890</td>\n",
       "      <td>-0.000505</td>\n",
       "      <td>-0.000505</td>\n",
       "      <td>-0.000505</td>\n",
       "      <td>-0.103028</td>\n",
       "      <td>-0.103028</td>\n",
       "      <td>-0.103028</td>\n",
       "      <td>0.0</td>\n",
       "      <td>0.0</td>\n",
       "      <td>0.0</td>\n",
       "      <td>0.0</td>\n",
       "      <td>0.0</td>\n",
       "      <td>0.0</td>\n",
       "      <td>0.0</td>\n",
       "      <td>0.0</td>\n",
       "      <td>0.0</td>\n",
       "      <td>0.0</td>\n",
       "      <td>0.0</td>\n",
       "      <td>0.0</td>\n",
       "      <td>16238.070074</td>\n",
       "    </tr>\n",
       "    <tr>\n",
       "      <th>3</th>\n",
       "      <td>2021-12-26</td>\n",
       "      <td>16450.103592</td>\n",
       "      <td>19400.561725</td>\n",
       "      <td>15492.035802</td>\n",
       "      <td>17208.023129</td>\n",
       "      <td>19400.561725</td>\n",
       "      <td>19400.561725</td>\n",
       "      <td>0.005959</td>\n",
       "      <td>0.005959</td>\n",
       "      <td>0.005959</td>\n",
       "      <td>0.000000</td>\n",
       "      <td>0.000000</td>\n",
       "      <td>0.000000</td>\n",
       "      <td>0.0</td>\n",
       "      <td>0.0</td>\n",
       "      <td>0.0</td>\n",
       "      <td>0.0</td>\n",
       "      <td>0.0</td>\n",
       "      <td>0.0</td>\n",
       "      <td>0.0</td>\n",
       "      <td>0.0</td>\n",
       "      <td>0.0</td>\n",
       "      <td>0.0</td>\n",
       "      <td>0.0</td>\n",
       "      <td>0.0</td>\n",
       "      <td>0.0</td>\n",
       "      <td>0.0</td>\n",
       "      <td>0.0</td>\n",
       "      <td>0.0</td>\n",
       "      <td>0.0</td>\n",
       "      <td>0.0</td>\n",
       "      <td>0.0</td>\n",
       "      <td>0.0</td>\n",
       "      <td>0.0</td>\n",
       "      <td>0.0</td>\n",
       "      <td>0.0</td>\n",
       "      <td>0.0</td>\n",
       "      <td>-0.051029</td>\n",
       "      <td>-0.051029</td>\n",
       "      <td>-0.051029</td>\n",
       "      <td>0.005959</td>\n",
       "      <td>0.005959</td>\n",
       "      <td>0.005959</td>\n",
       "      <td>-0.155447</td>\n",
       "      <td>-0.155447</td>\n",
       "      <td>-0.155447</td>\n",
       "      <td>0.005574</td>\n",
       "      <td>0.005574</td>\n",
       "      <td>0.005574</td>\n",
       "      <td>-0.115951</td>\n",
       "      <td>-0.115951</td>\n",
       "      <td>-0.115951</td>\n",
       "      <td>0.0</td>\n",
       "      <td>0.0</td>\n",
       "      <td>0.0</td>\n",
       "      <td>0.0</td>\n",
       "      <td>0.0</td>\n",
       "      <td>0.0</td>\n",
       "      <td>0.0</td>\n",
       "      <td>0.0</td>\n",
       "      <td>0.0</td>\n",
       "      <td>0.0</td>\n",
       "      <td>0.0</td>\n",
       "      <td>0.0</td>\n",
       "      <td>16384.802731</td>\n",
       "    </tr>\n",
       "    <tr>\n",
       "      <th>4</th>\n",
       "      <td>2021-12-25</td>\n",
       "      <td>16576.690806</td>\n",
       "      <td>19356.886641</td>\n",
       "      <td>15688.880247</td>\n",
       "      <td>17308.960887</td>\n",
       "      <td>19356.886641</td>\n",
       "      <td>19356.886641</td>\n",
       "      <td>0.000000</td>\n",
       "      <td>0.000000</td>\n",
       "      <td>0.000000</td>\n",
       "      <td>0.034685</td>\n",
       "      <td>0.034685</td>\n",
       "      <td>0.034685</td>\n",
       "      <td>0.0</td>\n",
       "      <td>0.0</td>\n",
       "      <td>0.0</td>\n",
       "      <td>0.0</td>\n",
       "      <td>0.0</td>\n",
       "      <td>0.0</td>\n",
       "      <td>0.0</td>\n",
       "      <td>0.0</td>\n",
       "      <td>0.0</td>\n",
       "      <td>0.0</td>\n",
       "      <td>0.0</td>\n",
       "      <td>0.0</td>\n",
       "      <td>0.0</td>\n",
       "      <td>0.0</td>\n",
       "      <td>0.0</td>\n",
       "      <td>0.0</td>\n",
       "      <td>0.0</td>\n",
       "      <td>0.0</td>\n",
       "      <td>0.0</td>\n",
       "      <td>0.0</td>\n",
       "      <td>0.0</td>\n",
       "      <td>0.0</td>\n",
       "      <td>0.0</td>\n",
       "      <td>0.0</td>\n",
       "      <td>-0.055646</td>\n",
       "      <td>-0.055646</td>\n",
       "      <td>-0.055646</td>\n",
       "      <td>0.034685</td>\n",
       "      <td>0.034685</td>\n",
       "      <td>0.034685</td>\n",
       "      <td>-0.147768</td>\n",
       "      <td>-0.147768</td>\n",
       "      <td>-0.147768</td>\n",
       "      <td>0.001075</td>\n",
       "      <td>0.001075</td>\n",
       "      <td>0.001075</td>\n",
       "      <td>-0.127882</td>\n",
       "      <td>-0.127882</td>\n",
       "      <td>-0.127882</td>\n",
       "      <td>0.0</td>\n",
       "      <td>0.0</td>\n",
       "      <td>0.0</td>\n",
       "      <td>0.0</td>\n",
       "      <td>0.0</td>\n",
       "      <td>0.0</td>\n",
       "      <td>0.0</td>\n",
       "      <td>0.0</td>\n",
       "      <td>0.0</td>\n",
       "      <td>0.0</td>\n",
       "      <td>0.0</td>\n",
       "      <td>0.0</td>\n",
       "      <td>16496.565217</td>\n",
       "    </tr>\n",
       "  </tbody>\n",
       "</table>\n",
       "</div>\n",
       "      <button class=\"colab-df-convert\" onclick=\"convertToInteractive('df-f9e71d83-dd37-4a4c-8d28-861925c87101')\"\n",
       "              title=\"Convert this dataframe to an interactive table.\"\n",
       "              style=\"display:none;\">\n",
       "        \n",
       "  <svg xmlns=\"http://www.w3.org/2000/svg\" height=\"24px\"viewBox=\"0 0 24 24\"\n",
       "       width=\"24px\">\n",
       "    <path d=\"M0 0h24v24H0V0z\" fill=\"none\"/>\n",
       "    <path d=\"M18.56 5.44l.94 2.06.94-2.06 2.06-.94-2.06-.94-.94-2.06-.94 2.06-2.06.94zm-11 1L8.5 8.5l.94-2.06 2.06-.94-2.06-.94L8.5 2.5l-.94 2.06-2.06.94zm10 10l.94 2.06.94-2.06 2.06-.94-2.06-.94-.94-2.06-.94 2.06-2.06.94z\"/><path d=\"M17.41 7.96l-1.37-1.37c-.4-.4-.92-.59-1.43-.59-.52 0-1.04.2-1.43.59L10.3 9.45l-7.72 7.72c-.78.78-.78 2.05 0 2.83L4 21.41c.39.39.9.59 1.41.59.51 0 1.02-.2 1.41-.59l7.78-7.78 2.81-2.81c.8-.78.8-2.07 0-2.86zM5.41 20L4 18.59l7.72-7.72 1.47 1.35L5.41 20z\"/>\n",
       "  </svg>\n",
       "      </button>\n",
       "      \n",
       "  <style>\n",
       "    .colab-df-container {\n",
       "      display:flex;\n",
       "      flex-wrap:wrap;\n",
       "      gap: 12px;\n",
       "    }\n",
       "\n",
       "    .colab-df-convert {\n",
       "      background-color: #E8F0FE;\n",
       "      border: none;\n",
       "      border-radius: 50%;\n",
       "      cursor: pointer;\n",
       "      display: none;\n",
       "      fill: #1967D2;\n",
       "      height: 32px;\n",
       "      padding: 0 0 0 0;\n",
       "      width: 32px;\n",
       "    }\n",
       "\n",
       "    .colab-df-convert:hover {\n",
       "      background-color: #E2EBFA;\n",
       "      box-shadow: 0px 1px 2px rgba(60, 64, 67, 0.3), 0px 1px 3px 1px rgba(60, 64, 67, 0.15);\n",
       "      fill: #174EA6;\n",
       "    }\n",
       "\n",
       "    [theme=dark] .colab-df-convert {\n",
       "      background-color: #3B4455;\n",
       "      fill: #D2E3FC;\n",
       "    }\n",
       "\n",
       "    [theme=dark] .colab-df-convert:hover {\n",
       "      background-color: #434B5C;\n",
       "      box-shadow: 0px 1px 3px 1px rgba(0, 0, 0, 0.15);\n",
       "      filter: drop-shadow(0px 1px 2px rgba(0, 0, 0, 0.3));\n",
       "      fill: #FFFFFF;\n",
       "    }\n",
       "  </style>\n",
       "\n",
       "      <script>\n",
       "        const buttonEl =\n",
       "          document.querySelector('#df-f9e71d83-dd37-4a4c-8d28-861925c87101 button.colab-df-convert');\n",
       "        buttonEl.style.display =\n",
       "          google.colab.kernel.accessAllowed ? 'block' : 'none';\n",
       "\n",
       "        async function convertToInteractive(key) {\n",
       "          const element = document.querySelector('#df-f9e71d83-dd37-4a4c-8d28-861925c87101');\n",
       "          const dataTable =\n",
       "            await google.colab.kernel.invokeFunction('convertToInteractive',\n",
       "                                                     [key], {});\n",
       "          if (!dataTable) return;\n",
       "\n",
       "          const docLinkHtml = 'Like what you see? Visit the ' +\n",
       "            '<a target=\"_blank\" href=https://colab.research.google.com/notebooks/data_table.ipynb>data table notebook</a>'\n",
       "            + ' to learn more about interactive tables.';\n",
       "          element.innerHTML = '';\n",
       "          dataTable['output_type'] = 'display_data';\n",
       "          await google.colab.output.renderOutput(dataTable, element);\n",
       "          const docLink = document.createElement('div');\n",
       "          docLink.innerHTML = docLinkHtml;\n",
       "          element.appendChild(docLink);\n",
       "        }\n",
       "      </script>\n",
       "    </div>\n",
       "  </div>\n",
       "  "
      ],
      "text/plain": [
       "          ds             y  ...  additive_terms_upper          yhat\n",
       "0 2021-12-29  15051.207600  ...                   0.0  16992.620817\n",
       "1 2021-12-28  15353.810550  ...                   0.0  16129.821089\n",
       "2 2021-12-27  16343.514486  ...                   0.0  16238.070074\n",
       "3 2021-12-26  16450.103592  ...                   0.0  16384.802731\n",
       "4 2021-12-25  16576.690806  ...                   0.0  16496.565217\n",
       "\n",
       "[5 rows x 65 columns]"
      ]
     },
     "execution_count": 20,
     "metadata": {},
     "output_type": "execute_result"
    }
   ],
   "source": [
    "# merge actual and forecast data\n",
    "act_for = df.merge(right=pred, how='left', on='ds')\n",
    "act_for.head()"
   ]
  },
  {
   "cell_type": "code",
   "execution_count": 21,
   "metadata": {
    "colab": {
     "base_uri": "https://localhost:8080/",
     "height": 336
    },
    "executionInfo": {
     "elapsed": 473,
     "status": "ok",
     "timestamp": 1640822707638,
     "user": {
      "displayName": "Marcin Sikorski",
      "photoUrl": "https://lh3.googleusercontent.com/a/default-user=s64",
      "userId": "11991808285549610170"
     },
     "user_tz": -60
    },
    "id": "NfT-1uMc2iuZ",
    "outputId": "c63c3009-62f8-45ba-d6b9-256db87c5f5a"
   },
   "outputs": [
    {
     "data": {
      "image/png": "[encoded data removed]",
      "text/plain": [
       "<Figure size 1008x360 with 1 Axes>"
      ]
     },
     "metadata": {
      "needs_background": "light"
     },
     "output_type": "display_data"
    }
   ],
   "source": [
    "# plot comparing the actual vs. predicted values\n",
    "plt.figure(figsize=(14,5))\n",
    "plt.plot(act_for['ds'], act_for['y'], label='Actual')\n",
    "plt.plot(act_for['ds'], act_for['yhat'], label='Forecast')\n",
    "plt.title('Forecast vs Actual Results')\n",
    "plt.legend()\n",
    "plt.show()"
   ]
  },
  {
   "cell_type": "markdown",
   "metadata": {
    "id": "05uw95Cn8TjK"
   },
   "source": [
    "We can now clearly see that the current model was able to fit the underlying trend pretty well and gave a good fit, but still it is unable to capture the sudden peaks and jumps in the time series. These jumps are basically caused by the external regressors which <code>Prophet</code> is unable to detect by default. We will see how to model external factors.\n",
    "\n",
    "#### 4.1 Analyzing Seasonality and Individual Components\n",
    "\n",
    "Below, we will plot all available seasonalities in our developed model. We will also plot individual components to check there impact on the computed results."
   ]
  },
  {
   "cell_type": "code",
   "execution_count": 22,
   "metadata": {
    "colab": {
     "base_uri": "https://localhost:8080/",
     "height": 1000
    },
    "executionInfo": {
     "elapsed": 2778,
     "status": "ok",
     "timestamp": 1640822716232,
     "user": {
      "displayName": "Marcin Sikorski",
      "photoUrl": "https://lh3.googleusercontent.com/a/default-user=s64",
      "userId": "11991808285549610170"
     },
     "user_tz": -60
    },
    "id": "M2be1Mia01_E",
    "outputId": "91682099-e6ec-4a3d-c086-0d385ee05bd6"
   },
   "outputs": [
    {
     "data": {
      "image/png": "[encoded data removed]",
      "text/plain": [
       "<Figure size 648x1080 with 5 Axes>"
      ]
     },
     "metadata": {},
     "output_type": "display_data"
    }
   ],
   "source": [
    "# plot available model forecast components\n",
    "fig1 = model.plot_components(fcst=pred)"
   ]
  },
  {
   "cell_type": "markdown",
   "metadata": {
    "id": "bA1ApnwmWweX"
   },
   "source": [
    "Again, from weekly seasonality we can observe Wednesday is the most active day for trading digital currencies. Weekends in general also seem to be more active.<br>\n",
    "The peak time is in the first half of May. Summer break is the least active selling time of the year, which should come as no surprise.<br>\n",
    "We will check individual seasonality for two holidays celebrated in Poland."
   ]
  },
  {
   "cell_type": "code",
   "execution_count": 23,
   "metadata": {
    "colab": {
     "base_uri": "https://localhost:8080/",
     "height": 388
    },
    "executionInfo": {
     "elapsed": 545,
     "status": "ok",
     "timestamp": 1640822726934,
     "user": {
      "displayName": "Marcin Sikorski",
      "photoUrl": "https://lh3.googleusercontent.com/a/default-user=s64",
      "userId": "11991808285549610170"
     },
     "user_tz": -60
    },
    "id": "-noEnbxbl4B_",
    "outputId": "a45a3835-3165-496f-e7ba-fd349a36055e"
   },
   "outputs": [
    {
     "data": {
      "image/png": "[encoded data removed]",
      "text/plain": [
       "<Figure size 720x432 with 1 Axes>"
      ]
     },
     "metadata": {},
     "output_type": "display_data"
    }
   ],
   "source": [
    "# plot Christmas Day (first day) component\n",
    "from fbprophet.plot import plot_forecast_component\n",
    "fig2 = plot_forecast_component(model, pred, 'Boże Narodzenie (pierwszy dzień)')"
   ]
  },
  {
   "cell_type": "code",
   "execution_count": 24,
   "metadata": {
    "colab": {
     "base_uri": "https://localhost:8080/",
     "height": 388
    },
    "executionInfo": {
     "elapsed": 710,
     "status": "ok",
     "timestamp": 1640822730264,
     "user": {
      "displayName": "Marcin Sikorski",
      "photoUrl": "https://lh3.googleusercontent.com/a/default-user=s64",
      "userId": "11991808285549610170"
     },
     "user_tz": -60
    },
    "id": "Um4tWkTV4aw2",
    "outputId": "b9b4a0f8-b767-4ebc-a116-65d42556b566"
   },
   "outputs": [
    {
     "data": {
      "image/png": "[encoded data removed]",
      "text/plain": [
       "<Figure size 720x432 with 1 Axes>"
      ]
     },
     "metadata": {},
     "output_type": "display_data"
    }
   ],
   "source": [
    "# plot Green Week component\n",
    "fig3 = plot_forecast_component(model, pred, 'Zielone Świątki')"
   ]
  },
  {
   "cell_type": "markdown",
   "metadata": {
    "id": "CJHD3Zof5Llt"
   },
   "source": [
    "First day of Christmas seems to have slight impact on Ethereum stock prices.\n",
    "Green Week on the other hand is characterized by a clearly reduced activity and volatility of investors with -30% sales. Perhaps this holiday is more respected?\n",
    "\n",
    "#### 4.2 Trend Changepoints\n",
    "\n",
    "Real time series frequently have abrupt changes in their trajectories. By default, <code>Prophet</code> can automatically detect these changepoints and will allow the trend to adapt appropriately. We will plot these trend changes to get more detailed insight of the data."
   ]
  },
  {
   "cell_type": "code",
   "execution_count": 25,
   "metadata": {
    "colab": {
     "base_uri": "https://localhost:8080/",
     "height": 457
    },
    "executionInfo": {
     "elapsed": 996,
     "status": "ok",
     "timestamp": 1640822744856,
     "user": {
      "displayName": "Marcin Sikorski",
      "photoUrl": "https://lh3.googleusercontent.com/a/default-user=s64",
      "userId": "11991808285549610170"
     },
     "user_tz": -60
    },
    "id": "QOYbBgPE5KCh",
    "outputId": "67cebcce-41b5-47b0-f9dc-a18f27a21d77"
   },
   "outputs": [
    {
     "data": {
      "image/png": "[encoded data removed]",
      "text/plain": [
       "<Figure size 720x432 with 1 Axes>"
      ]
     },
     "metadata": {},
     "output_type": "display_data"
    }
   ],
   "source": [
    "# plot trend changepoints\n",
    "from fbprophet.plot import add_changepoints_to_plot\n",
    "fig4 = model.plot(fcst=pred, xlabel=None, ylabel=None)\n",
    "add_changepoints_to_plot(fig4.gca(), m=model, fcst=pred, cp_color='r', trend=True, cp_linestyle='--')\n",
    "plt.title('Trend Changes')\n",
    "plt.show()"
   ]
  },
  {
   "cell_type": "code",
   "execution_count": 26,
   "metadata": {
    "colab": {
     "base_uri": "https://localhost:8080/"
    },
    "executionInfo": {
     "elapsed": 287,
     "status": "ok",
     "timestamp": 1640822748189,
     "user": {
      "displayName": "Marcin Sikorski",
      "photoUrl": "https://lh3.googleusercontent.com/a/default-user=s64",
      "userId": "11991808285549610170"
     },
     "user_tz": -60
    },
    "id": "voRaQbtl5zIC",
    "outputId": "d46bb239-cd92-4f31-af81-5f7ad5d03979"
   },
   "outputs": [
    {
     "name": "stdout",
     "output_type": "stream",
     "text": [
      "25\n"
     ]
    },
    {
     "data": {
      "text/plain": [
       "32    2019-05-07\n",
       "64    2019-06-08\n",
       "96    2019-07-10\n",
       "128   2019-08-11\n",
       "160   2019-09-12\n",
       "192   2019-10-14\n",
       "224   2019-11-15\n",
       "256   2019-12-17\n",
       "288   2020-01-18\n",
       "320   2020-02-19\n",
       "352   2020-03-22\n",
       "384   2020-04-23\n",
       "415   2020-05-24\n",
       "447   2020-06-25\n",
       "479   2020-07-27\n",
       "511   2020-08-28\n",
       "543   2020-09-29\n",
       "575   2020-10-31\n",
       "607   2020-12-02\n",
       "639   2021-01-03\n",
       "671   2021-02-04\n",
       "703   2021-03-08\n",
       "735   2021-04-09\n",
       "767   2021-05-11\n",
       "799   2021-06-12\n",
       "Name: ds, dtype: datetime64[ns]"
      ]
     },
     "execution_count": 26,
     "metadata": {},
     "output_type": "execute_result"
    }
   ],
   "source": [
    "# display number of dates with trend changepoints\n",
    "print(len(model.changepoints))\n",
    "\n",
    "# display these dates\n",
    "model.changepoints"
   ]
  },
  {
   "cell_type": "markdown",
   "metadata": {
    "id": "Jj_ru9l5CLQZ"
   },
   "source": [
    "### 5. Accuracy Metrics and Measure Performance of Fitted Model\n",
    "\n",
    "We will develop an objective estimate of our forecast model’s performance. We will plot diagnostics and calculate some basic accuracy metrics."
   ]
  },
  {
   "cell_type": "code",
   "execution_count": 27,
   "metadata": {
    "colab": {
     "base_uri": "https://localhost:8080/",
     "height": 336
    },
    "executionInfo": {
     "elapsed": 490,
     "status": "ok",
     "timestamp": 1640822754584,
     "user": {
      "displayName": "Marcin Sikorski",
      "photoUrl": "https://lh3.googleusercontent.com/a/default-user=s64",
      "userId": "11991808285549610170"
     },
     "user_tz": -60
    },
    "id": "2jiRlTge4a9Q",
    "outputId": "eeaca151-f36a-4b82-c319-06b9a4078bef"
   },
   "outputs": [
    {
     "data": {
      "image/png": "[encoded data removed]",
      "text/plain": [
       "<Figure size 1008x360 with 1 Axes>"
      ]
     },
     "metadata": {
      "needs_background": "light"
     },
     "output_type": "display_data"
    }
   ],
   "source": [
    "# plot residuals\n",
    "plt.figure(figsize=(14,5))\n",
    "plt.scatter(act_for['ds'], act_for['yhat'] - act_for['y'], s=2)\n",
    "plt.title('Residual Errors')\n",
    "plt.show()"
   ]
  },
  {
   "cell_type": "markdown",
   "metadata": {
    "id": "bE04kadTL295"
   },
   "source": [
    "The residual errors seem to fluctuate around a mean of zero. Residuals later on are exponentially larger due to increasing stock prices. Again, we can observe the model is unable to capture sudden peaks in the time series."
   ]
  },
  {
   "cell_type": "code",
   "execution_count": 28,
   "metadata": {
    "colab": {
     "base_uri": "https://localhost:8080/"
    },
    "executionInfo": {
     "elapsed": 298,
     "status": "ok",
     "timestamp": 1640822761643,
     "user": {
      "displayName": "Marcin Sikorski",
      "photoUrl": "https://lh3.googleusercontent.com/a/default-user=s64",
      "userId": "11991808285549610170"
     },
     "user_tz": -60
    },
    "id": "MQMB79zOXAZO",
    "outputId": "236e07dd-b6f7-4b77-89f7-f51087b27d3d"
   },
   "outputs": [
    {
     "data": {
      "text/plain": [
       "414.24835894532424"
      ]
     },
     "execution_count": 28,
     "metadata": {},
     "output_type": "execute_result"
    }
   ],
   "source": [
    "# root mean squared error\n",
    "from sklearn.metrics import mean_squared_error\n",
    "rmse = mean_squared_error(act_for['y'], act_for['yhat'], squared=False)\n",
    "rmse"
   ]
  },
  {
   "cell_type": "code",
   "execution_count": 29,
   "metadata": {
    "colab": {
     "base_uri": "https://localhost:8080/"
    },
    "executionInfo": {
     "elapsed": 276,
     "status": "ok",
     "timestamp": 1640822764288,
     "user": {
      "displayName": "Marcin Sikorski",
      "photoUrl": "https://lh3.googleusercontent.com/a/default-user=s64",
      "userId": "11991808285549610170"
     },
     "user_tz": -60
    },
    "id": "zrH1pC5QIL-W",
    "outputId": "62408072-e87c-44dc-81bf-a82765e450a9"
   },
   "outputs": [
    {
     "data": {
      "text/plain": [
       "264.8967732710136"
      ]
     },
     "execution_count": 29,
     "metadata": {},
     "output_type": "execute_result"
    }
   ],
   "source": [
    "# mean absolute error\n",
    "from sklearn.metrics import mean_absolute_error\n",
    "mae = mean_absolute_error(act_for['y'], act_for['yhat'])\n",
    "mae"
   ]
  },
  {
   "cell_type": "code",
   "execution_count": 30,
   "metadata": {
    "colab": {
     "base_uri": "https://localhost:8080/"
    },
    "executionInfo": {
     "elapsed": 276,
     "status": "ok",
     "timestamp": 1640822766283,
     "user": {
      "displayName": "Marcin Sikorski",
      "photoUrl": "https://lh3.googleusercontent.com/a/default-user=s64",
      "userId": "11991808285549610170"
     },
     "user_tz": -60
    },
    "id": "H_wfysIRISZ0",
    "outputId": "5a702df6-413d-4709-bb31-703bed346aa1"
   },
   "outputs": [
    {
     "data": {
      "text/plain": [
       "10.699078490998945"
      ]
     },
     "execution_count": 30,
     "metadata": {},
     "output_type": "execute_result"
    }
   ],
   "source": [
    "# mean absolute percentage error\n",
    "import numpy as np\n",
    "mape = np.mean(np.abs(act_for['y'] - act_for['yhat']) / act_for['y']) * 100\n",
    "mape"
   ]
  },
  {
   "cell_type": "code",
   "execution_count": 31,
   "metadata": {
    "colab": {
     "base_uri": "https://localhost:8080/"
    },
    "executionInfo": {
     "elapsed": 1717,
     "status": "ok",
     "timestamp": 1640822772917,
     "user": {
      "displayName": "Marcin Sikorski",
      "photoUrl": "https://lh3.googleusercontent.com/a/default-user=s64",
      "userId": "11991808285549610170"
     },
     "user_tz": -60
    },
    "id": "z_ZwT_d6XiIl",
    "outputId": "55269eab-b2c9-4810-8045-bb83f03ee725"
   },
   "outputs": [
    {
     "data": {
      "text/plain": [
       "0.9971677876277272"
      ]
     },
     "execution_count": 31,
     "metadata": {},
     "output_type": "execute_result"
    }
   ],
   "source": [
    "# correlation\n",
    "corr = np.corrcoef(act_for['y'], act_for['yhat'])[0,1]\n",
    "corr"
   ]
  },
  {
   "cell_type": "markdown",
   "metadata": {
    "id": "eZNHmuTekwJ2"
   },
   "source": [
    "<code>Prophet</code> for forecast error measuring offers cross validation test using historical data. We’ll do this by comparing the predicted values with the actual values. In order to perform this operation we select cut off points in the history of the data and fit the model with data up to that cut off point. Afterwards we compare the actual values to the predicted values. Period is how much data to add to the training data set in every iteration of cross validation, and horizon is how far out it will forecast."
   ]
  },
  {
   "cell_type": "code",
   "execution_count": 32,
   "metadata": {
    "colab": {
     "base_uri": "https://localhost:8080/",
     "height": 275,
     "referenced_widgets": [
      "cde464f1f46b491c9a30de89db94c6ee",
      "b98c3fafbfff42c394dc7f7f6d47a3d6",
      "1e79e4ffc78743b6877c7cfc74b12cae",
      "1a06b281be734ef8be86f556a5d51b62",
      "41a3c9909e86437a80d2639e5f59961a",
      "704b606e022045d5a96faf10a25366eb",
      "6cdb4b75eaa24670b7223fb28b6a6ab9",
      "521d988d38494d93aced6e72ae7c21ef",
      "38a06d26e8f841029a637b30f391db64",
      "bb95b721346049b78c2f99d45738a83b",
      "af226aa228a4494db12bd0f0dd8da91a"
     ]
    },
    "executionInfo": {
     "elapsed": 72362,
     "status": "ok",
     "timestamp": 1640822853480,
     "user": {
      "displayName": "Marcin Sikorski",
      "photoUrl": "https://lh3.googleusercontent.com/a/default-user=s64",
      "userId": "11991808285549610170"
     },
     "user_tz": -60
    },
    "id": "NLeTLimK60R2",
    "outputId": "b05c36b0-079f-41dd-c179-ed76ad0876bf"
   },
   "outputs": [
    {
     "name": "stderr",
     "output_type": "stream",
     "text": [
      "INFO:fbprophet:Making 26 forecasts with cutoffs between 2019-10-11 00:00:00 and 2021-10-30 00:00:00\n",
      "WARNING:fbprophet:Seasonality has period of 365.25 days which is larger than initial window. Consider increasing initial.\n"
     ]
    },
    {
     "data": {
      "application/vnd.jupyter.widget-view+json": {
       "model_id": "cde464f1f46b491c9a30de89db94c6ee",
       "version_major": 2,
       "version_minor": 0
      },
      "text/plain": [
       "  0%|          | 0/26 [00:00<?, ?it/s]"
      ]
     },
     "metadata": {},
     "output_type": "display_data"
    },
    {
     "data": {
      "text/html": [
       "\n",
       "  <div id=\"df-1d49a8cf-90b4-420e-bd84-3a4a4b4d13eb\">\n",
       "    <div class=\"colab-df-container\">\n",
       "      <div>\n",
       "<style scoped>\n",
       "    .dataframe tbody tr th:only-of-type {\n",
       "        vertical-align: middle;\n",
       "    }\n",
       "\n",
       "    .dataframe tbody tr th {\n",
       "        vertical-align: top;\n",
       "    }\n",
       "\n",
       "    .dataframe thead th {\n",
       "        text-align: right;\n",
       "    }\n",
       "</style>\n",
       "<table border=\"1\" class=\"dataframe\">\n",
       "  <thead>\n",
       "    <tr style=\"text-align: right;\">\n",
       "      <th></th>\n",
       "      <th>ds</th>\n",
       "      <th>yhat</th>\n",
       "      <th>yhat_lower</th>\n",
       "      <th>yhat_upper</th>\n",
       "      <th>y</th>\n",
       "      <th>cutoff</th>\n",
       "    </tr>\n",
       "  </thead>\n",
       "  <tbody>\n",
       "    <tr>\n",
       "      <th>0</th>\n",
       "      <td>2019-10-12</td>\n",
       "      <td>796.821266</td>\n",
       "      <td>713.068560</td>\n",
       "      <td>875.875323</td>\n",
       "      <td>727.380576</td>\n",
       "      <td>2019-10-11</td>\n",
       "    </tr>\n",
       "    <tr>\n",
       "      <th>1</th>\n",
       "      <td>2019-10-13</td>\n",
       "      <td>810.104270</td>\n",
       "      <td>736.132721</td>\n",
       "      <td>893.538773</td>\n",
       "      <td>732.683718</td>\n",
       "      <td>2019-10-11</td>\n",
       "    </tr>\n",
       "    <tr>\n",
       "      <th>2</th>\n",
       "      <td>2019-10-14</td>\n",
       "      <td>841.780945</td>\n",
       "      <td>757.635285</td>\n",
       "      <td>925.789296</td>\n",
       "      <td>755.879904</td>\n",
       "      <td>2019-10-11</td>\n",
       "    </tr>\n",
       "    <tr>\n",
       "      <th>3</th>\n",
       "      <td>2019-10-15</td>\n",
       "      <td>865.140045</td>\n",
       "      <td>787.309170</td>\n",
       "      <td>946.826936</td>\n",
       "      <td>730.659618</td>\n",
       "      <td>2019-10-11</td>\n",
       "    </tr>\n",
       "    <tr>\n",
       "      <th>4</th>\n",
       "      <td>2019-10-16</td>\n",
       "      <td>896.173377</td>\n",
       "      <td>813.756912</td>\n",
       "      <td>974.184493</td>\n",
       "      <td>706.289454</td>\n",
       "      <td>2019-10-11</td>\n",
       "    </tr>\n",
       "  </tbody>\n",
       "</table>\n",
       "</div>\n",
       "      <button class=\"colab-df-convert\" onclick=\"convertToInteractive('df-1d49a8cf-90b4-420e-bd84-3a4a4b4d13eb')\"\n",
       "              title=\"Convert this dataframe to an interactive table.\"\n",
       "              style=\"display:none;\">\n",
       "        \n",
       "  <svg xmlns=\"http://www.w3.org/2000/svg\" height=\"24px\"viewBox=\"0 0 24 24\"\n",
       "       width=\"24px\">\n",
       "    <path d=\"M0 0h24v24H0V0z\" fill=\"none\"/>\n",
       "    <path d=\"M18.56 5.44l.94 2.06.94-2.06 2.06-.94-2.06-.94-.94-2.06-.94 2.06-2.06.94zm-11 1L8.5 8.5l.94-2.06 2.06-.94-2.06-.94L8.5 2.5l-.94 2.06-2.06.94zm10 10l.94 2.06.94-2.06 2.06-.94-2.06-.94-.94-2.06-.94 2.06-2.06.94z\"/><path d=\"M17.41 7.96l-1.37-1.37c-.4-.4-.92-.59-1.43-.59-.52 0-1.04.2-1.43.59L10.3 9.45l-7.72 7.72c-.78.78-.78 2.05 0 2.83L4 21.41c.39.39.9.59 1.41.59.51 0 1.02-.2 1.41-.59l7.78-7.78 2.81-2.81c.8-.78.8-2.07 0-2.86zM5.41 20L4 18.59l7.72-7.72 1.47 1.35L5.41 20z\"/>\n",
       "  </svg>\n",
       "      </button>\n",
       "      \n",
       "  <style>\n",
       "    .colab-df-container {\n",
       "      display:flex;\n",
       "      flex-wrap:wrap;\n",
       "      gap: 12px;\n",
       "    }\n",
       "\n",
       "    .colab-df-convert {\n",
       "      background-color: #E8F0FE;\n",
       "      border: none;\n",
       "      border-radius: 50%;\n",
       "      cursor: pointer;\n",
       "      display: none;\n",
       "      fill: #1967D2;\n",
       "      height: 32px;\n",
       "      padding: 0 0 0 0;\n",
       "      width: 32px;\n",
       "    }\n",
       "\n",
       "    .colab-df-convert:hover {\n",
       "      background-color: #E2EBFA;\n",
       "      box-shadow: 0px 1px 2px rgba(60, 64, 67, 0.3), 0px 1px 3px 1px rgba(60, 64, 67, 0.15);\n",
       "      fill: #174EA6;\n",
       "    }\n",
       "\n",
       "    [theme=dark] .colab-df-convert {\n",
       "      background-color: #3B4455;\n",
       "      fill: #D2E3FC;\n",
       "    }\n",
       "\n",
       "    [theme=dark] .colab-df-convert:hover {\n",
       "      background-color: #434B5C;\n",
       "      box-shadow: 0px 1px 3px 1px rgba(0, 0, 0, 0.15);\n",
       "      filter: drop-shadow(0px 1px 2px rgba(0, 0, 0, 0.3));\n",
       "      fill: #FFFFFF;\n",
       "    }\n",
       "  </style>\n",
       "\n",
       "      <script>\n",
       "        const buttonEl =\n",
       "          document.querySelector('#df-1d49a8cf-90b4-420e-bd84-3a4a4b4d13eb button.colab-df-convert');\n",
       "        buttonEl.style.display =\n",
       "          google.colab.kernel.accessAllowed ? 'block' : 'none';\n",
       "\n",
       "        async function convertToInteractive(key) {\n",
       "          const element = document.querySelector('#df-1d49a8cf-90b4-420e-bd84-3a4a4b4d13eb');\n",
       "          const dataTable =\n",
       "            await google.colab.kernel.invokeFunction('convertToInteractive',\n",
       "                                                     [key], {});\n",
       "          if (!dataTable) return;\n",
       "\n",
       "          const docLinkHtml = 'Like what you see? Visit the ' +\n",
       "            '<a target=\"_blank\" href=https://colab.research.google.com/notebooks/data_table.ipynb>data table notebook</a>'\n",
       "            + ' to learn more about interactive tables.';\n",
       "          element.innerHTML = '';\n",
       "          dataTable['output_type'] = 'display_data';\n",
       "          await google.colab.output.renderOutput(dataTable, element);\n",
       "          const docLink = document.createElement('div');\n",
       "          docLink.innerHTML = docLinkHtml;\n",
       "          element.appendChild(docLink);\n",
       "        }\n",
       "      </script>\n",
       "    </div>\n",
       "  </div>\n",
       "  "
      ],
      "text/plain": [
       "          ds        yhat  yhat_lower  yhat_upper           y     cutoff\n",
       "0 2019-10-12  796.821266  713.068560  875.875323  727.380576 2019-10-11\n",
       "1 2019-10-13  810.104270  736.132721  893.538773  732.683718 2019-10-11\n",
       "2 2019-10-14  841.780945  757.635285  925.789296  755.879904 2019-10-11\n",
       "3 2019-10-15  865.140045  787.309170  946.826936  730.659618 2019-10-11\n",
       "4 2019-10-16  896.173377  813.756912  974.184493  706.289454 2019-10-11"
      ]
     },
     "execution_count": 32,
     "metadata": {},
     "output_type": "execute_result"
    }
   ],
   "source": [
    "# generating cross validation dataframe\n",
    "from fbprophet.diagnostics import cross_validation\n",
    "df_cv = cross_validation(model, initial='180 days', period='30 days', horizon='60 days')\n",
    "df_cv.head()"
   ]
  },
  {
   "cell_type": "code",
   "execution_count": 33,
   "metadata": {
    "colab": {
     "base_uri": "https://localhost:8080/",
     "height": 206
    },
    "executionInfo": {
     "elapsed": 317,
     "status": "ok",
     "timestamp": 1640822881223,
     "user": {
      "displayName": "Marcin Sikorski",
      "photoUrl": "https://lh3.googleusercontent.com/a/default-user=s64",
      "userId": "11991808285549610170"
     },
     "user_tz": -60
    },
    "id": "-yJng3d17Cz8",
    "outputId": "05957ef2-b831-4656-fdb7-8a8b466c55fb"
   },
   "outputs": [
    {
     "data": {
      "text/html": [
       "\n",
       "  <div id=\"df-8b86c4f4-d282-4850-a410-05dbe85edb43\">\n",
       "    <div class=\"colab-df-container\">\n",
       "      <div>\n",
       "<style scoped>\n",
       "    .dataframe tbody tr th:only-of-type {\n",
       "        vertical-align: middle;\n",
       "    }\n",
       "\n",
       "    .dataframe tbody tr th {\n",
       "        vertical-align: top;\n",
       "    }\n",
       "\n",
       "    .dataframe thead th {\n",
       "        text-align: right;\n",
       "    }\n",
       "</style>\n",
       "<table border=\"1\" class=\"dataframe\">\n",
       "  <thead>\n",
       "    <tr style=\"text-align: right;\">\n",
       "      <th></th>\n",
       "      <th>horizon</th>\n",
       "      <th>rmse</th>\n",
       "      <th>mae</th>\n",
       "      <th>mape</th>\n",
       "    </tr>\n",
       "  </thead>\n",
       "  <tbody>\n",
       "    <tr>\n",
       "      <th>0</th>\n",
       "      <td>6 days</td>\n",
       "      <td>1114.863717</td>\n",
       "      <td>634.563071</td>\n",
       "      <td>0.127830</td>\n",
       "    </tr>\n",
       "    <tr>\n",
       "      <th>1</th>\n",
       "      <td>7 days</td>\n",
       "      <td>1265.115217</td>\n",
       "      <td>711.511026</td>\n",
       "      <td>0.147017</td>\n",
       "    </tr>\n",
       "    <tr>\n",
       "      <th>2</th>\n",
       "      <td>8 days</td>\n",
       "      <td>1428.924212</td>\n",
       "      <td>772.377227</td>\n",
       "      <td>0.164224</td>\n",
       "    </tr>\n",
       "    <tr>\n",
       "      <th>3</th>\n",
       "      <td>9 days</td>\n",
       "      <td>1619.301603</td>\n",
       "      <td>845.496850</td>\n",
       "      <td>0.178597</td>\n",
       "    </tr>\n",
       "    <tr>\n",
       "      <th>4</th>\n",
       "      <td>10 days</td>\n",
       "      <td>1774.155263</td>\n",
       "      <td>910.059550</td>\n",
       "      <td>0.194849</td>\n",
       "    </tr>\n",
       "  </tbody>\n",
       "</table>\n",
       "</div>\n",
       "      <button class=\"colab-df-convert\" onclick=\"convertToInteractive('df-8b86c4f4-d282-4850-a410-05dbe85edb43')\"\n",
       "              title=\"Convert this dataframe to an interactive table.\"\n",
       "              style=\"display:none;\">\n",
       "        \n",
       "  <svg xmlns=\"http://www.w3.org/2000/svg\" height=\"24px\"viewBox=\"0 0 24 24\"\n",
       "       width=\"24px\">\n",
       "    <path d=\"M0 0h24v24H0V0z\" fill=\"none\"/>\n",
       "    <path d=\"M18.56 5.44l.94 2.06.94-2.06 2.06-.94-2.06-.94-.94-2.06-.94 2.06-2.06.94zm-11 1L8.5 8.5l.94-2.06 2.06-.94-2.06-.94L8.5 2.5l-.94 2.06-2.06.94zm10 10l.94 2.06.94-2.06 2.06-.94-2.06-.94-.94-2.06-.94 2.06-2.06.94z\"/><path d=\"M17.41 7.96l-1.37-1.37c-.4-.4-.92-.59-1.43-.59-.52 0-1.04.2-1.43.59L10.3 9.45l-7.72 7.72c-.78.78-.78 2.05 0 2.83L4 21.41c.39.39.9.59 1.41.59.51 0 1.02-.2 1.41-.59l7.78-7.78 2.81-2.81c.8-.78.8-2.07 0-2.86zM5.41 20L4 18.59l7.72-7.72 1.47 1.35L5.41 20z\"/>\n",
       "  </svg>\n",
       "      </button>\n",
       "      \n",
       "  <style>\n",
       "    .colab-df-container {\n",
       "      display:flex;\n",
       "      flex-wrap:wrap;\n",
       "      gap: 12px;\n",
       "    }\n",
       "\n",
       "    .colab-df-convert {\n",
       "      background-color: #E8F0FE;\n",
       "      border: none;\n",
       "      border-radius: 50%;\n",
       "      cursor: pointer;\n",
       "      display: none;\n",
       "      fill: #1967D2;\n",
       "      height: 32px;\n",
       "      padding: 0 0 0 0;\n",
       "      width: 32px;\n",
       "    }\n",
       "\n",
       "    .colab-df-convert:hover {\n",
       "      background-color: #E2EBFA;\n",
       "      box-shadow: 0px 1px 2px rgba(60, 64, 67, 0.3), 0px 1px 3px 1px rgba(60, 64, 67, 0.15);\n",
       "      fill: #174EA6;\n",
       "    }\n",
       "\n",
       "    [theme=dark] .colab-df-convert {\n",
       "      background-color: #3B4455;\n",
       "      fill: #D2E3FC;\n",
       "    }\n",
       "\n",
       "    [theme=dark] .colab-df-convert:hover {\n",
       "      background-color: #434B5C;\n",
       "      box-shadow: 0px 1px 3px 1px rgba(0, 0, 0, 0.15);\n",
       "      filter: drop-shadow(0px 1px 2px rgba(0, 0, 0, 0.3));\n",
       "      fill: #FFFFFF;\n",
       "    }\n",
       "  </style>\n",
       "\n",
       "      <script>\n",
       "        const buttonEl =\n",
       "          document.querySelector('#df-8b86c4f4-d282-4850-a410-05dbe85edb43 button.colab-df-convert');\n",
       "        buttonEl.style.display =\n",
       "          google.colab.kernel.accessAllowed ? 'block' : 'none';\n",
       "\n",
       "        async function convertToInteractive(key) {\n",
       "          const element = document.querySelector('#df-8b86c4f4-d282-4850-a410-05dbe85edb43');\n",
       "          const dataTable =\n",
       "            await google.colab.kernel.invokeFunction('convertToInteractive',\n",
       "                                                     [key], {});\n",
       "          if (!dataTable) return;\n",
       "\n",
       "          const docLinkHtml = 'Like what you see? Visit the ' +\n",
       "            '<a target=\"_blank\" href=https://colab.research.google.com/notebooks/data_table.ipynb>data table notebook</a>'\n",
       "            + ' to learn more about interactive tables.';\n",
       "          element.innerHTML = '';\n",
       "          dataTable['output_type'] = 'display_data';\n",
       "          await google.colab.output.renderOutput(dataTable, element);\n",
       "          const docLink = document.createElement('div');\n",
       "          docLink.innerHTML = docLinkHtml;\n",
       "          element.appendChild(docLink);\n",
       "        }\n",
       "      </script>\n",
       "    </div>\n",
       "  </div>\n",
       "  "
      ],
      "text/plain": [
       "  horizon         rmse         mae      mape\n",
       "0  6 days  1114.863717  634.563071  0.127830\n",
       "1  7 days  1265.115217  711.511026  0.147017\n",
       "2  8 days  1428.924212  772.377227  0.164224\n",
       "3  9 days  1619.301603  845.496850  0.178597\n",
       "4 10 days  1774.155263  910.059550  0.194849"
      ]
     },
     "execution_count": 33,
     "metadata": {},
     "output_type": "execute_result"
    }
   ],
   "source": [
    "# display peformance metrics for horizon\n",
    "# metric = ['mse', 'rmse', 'mae', 'mape', 'mdape', 'coverage'] - metrics to choose\n",
    "from fbprophet.diagnostics import performance_metrics\n",
    "df_p = performance_metrics(df=df_cv, metrics=['rmse', 'mae', 'mape'])\n",
    "df_p.head()"
   ]
  },
  {
   "cell_type": "code",
   "execution_count": 34,
   "metadata": {
    "colab": {
     "base_uri": "https://localhost:8080/",
     "height": 404
    },
    "executionInfo": {
     "elapsed": 430,
     "status": "ok",
     "timestamp": 1640822884363,
     "user": {
      "displayName": "Marcin Sikorski",
      "photoUrl": "https://lh3.googleusercontent.com/a/default-user=s64",
      "userId": "11991808285549610170"
     },
     "user_tz": -60
    },
    "id": "SxGO1jTm7KDW",
    "outputId": "ad6a61b8-1802-4f3a-9c58-46a6204ca248"
   },
   "outputs": [
    {
     "data": {
      "image/png": "[encoded data removed]",
      "text/plain": [
       "<Figure size 720x432 with 1 Axes>"
      ]
     },
     "metadata": {},
     "output_type": "display_data"
    }
   ],
   "source": [
    "# visualizing performance metrics\n",
    "from fbprophet.plot import plot_cross_validation_metric\n",
    "fig5 = plot_cross_validation_metric(df_cv, metric='rmse')\n",
    "plt.title('RMSE Errors')\n",
    "plt.show()"
   ]
  },
  {
   "cell_type": "code",
   "execution_count": 35,
   "metadata": {
    "colab": {
     "base_uri": "https://localhost:8080/",
     "height": 404
    },
    "executionInfo": {
     "elapsed": 390,
     "status": "ok",
     "timestamp": 1640822888076,
     "user": {
      "displayName": "Marcin Sikorski",
      "photoUrl": "https://lh3.googleusercontent.com/a/default-user=s64",
      "userId": "11991808285549610170"
     },
     "user_tz": -60
    },
    "id": "7h1EuveFLWij",
    "outputId": "a5adfc42-a1e8-4ba2-90cf-865763141f9a"
   },
   "outputs": [
    {
     "data": {
      "image/png": "[encoded data removed]",
      "text/plain": [
       "<Figure size 720x432 with 1 Axes>"
      ]
     },
     "metadata": {},
     "output_type": "display_data"
    }
   ],
   "source": [
    "fig6 = plot_cross_validation_metric(df_cv, metric='mape')\n",
    "plt.title('MAPE Errors')\n",
    "plt.show()"
   ]
  },
  {
   "cell_type": "markdown",
   "metadata": {
    "id": "SbmVarHQXpI9"
   },
   "source": [
    "### 6. Extrapolating Future Stock Data\n",
    "\n",
    "In practice, it is obvious we really want a forecast model to make a prediction beyond the training data. We will predict future stock prices for the coming 60 days and plot results. The dataframe with forecasted results is attached in the repository."
   ]
  },
  {
   "cell_type": "code",
   "execution_count": 36,
   "metadata": {
    "executionInfo": {
     "elapsed": 3797,
     "status": "ok",
     "timestamp": 1640822897787,
     "user": {
      "displayName": "Marcin Sikorski",
      "photoUrl": "https://lh3.googleusercontent.com/a/default-user=s64",
      "userId": "11991808285549610170"
     },
     "user_tz": -60
    },
    "id": "uDafseeTXVix"
   },
   "outputs": [],
   "source": [
    "# forecast 60 days ahead - out-of-sample\n",
    "out_sample = model.make_future_dataframe(periods=60, freq='D', include_history=True)\n",
    "forecast = model.predict(out_sample)"
   ]
  },
  {
   "cell_type": "code",
   "execution_count": 37,
   "metadata": {
    "executionInfo": {
     "elapsed": 2082,
     "status": "ok",
     "timestamp": 1640822956109,
     "user": {
      "displayName": "Marcin Sikorski",
      "photoUrl": "https://lh3.googleusercontent.com/a/default-user=s64",
      "userId": "11991808285549610170"
     },
     "user_tz": -60
    },
    "id": "Pu6NxjktLWl7"
   },
   "outputs": [],
   "source": [
    "# save results to Excel file\n",
    "forecast.to_excel('results.xlsx', sheet_name='forecast_data', index=False, header=True)"
   ]
  },
  {
   "cell_type": "code",
   "execution_count": 38,
   "metadata": {
    "colab": {
     "base_uri": "https://localhost:8080/",
     "height": 454
    },
    "executionInfo": {
     "elapsed": 885,
     "status": "ok",
     "timestamp": 1640822967356,
     "user": {
      "displayName": "Marcin Sikorski",
      "photoUrl": "https://lh3.googleusercontent.com/a/default-user=s64",
      "userId": "11991808285549610170"
     },
     "user_tz": -60
    },
    "id": "NCzT8D6p0oT7",
    "outputId": "7cc2865d-3019-489d-daca-1d4f0eafcbce"
   },
   "outputs": [
    {
     "data": {
      "image/png": "[encoded data removed]",
      "text/plain": [
       "<Figure size 720x432 with 1 Axes>"
      ]
     },
     "metadata": {},
     "output_type": "display_data"
    }
   ],
   "source": [
    "# plot the predicted values\n",
    "# uncertainty=True - displays confidence interval (blue shadow)\n",
    "fig7 = model.plot(fcst=forecast, xlabel='Date', ylabel='Price [PLN]', uncertainty=False)\n",
    "fig8 = plt.plot(df['ds'], df['y'], color='r', label='Historical')\n",
    "plt.title('Forecasted Closed Prices for {}'.format(symbol))\n",
    "plt.legend(loc='upper left')\n",
    "plt.show()"
   ]
  },
  {
   "cell_type": "code",
   "execution_count": 39,
   "metadata": {
    "colab": {
     "base_uri": "https://localhost:8080/",
     "height": 297
    },
    "executionInfo": {
     "elapsed": 492,
     "status": "ok",
     "timestamp": 1640822977049,
     "user": {
      "displayName": "Marcin Sikorski",
      "photoUrl": "https://lh3.googleusercontent.com/a/default-user=s64",
      "userId": "11991808285549610170"
     },
     "user_tz": -60
    },
    "id": "rhq8C5z04bDt",
    "outputId": "fe96678d-4632-42de-b01b-7c15bd561cca"
   },
   "outputs": [
    {
     "data": {
      "image/png": "[encoded data removed]",
      "text/plain": [
       "<Figure size 648x288 with 1 Axes>"
      ]
     },
     "metadata": {},
     "output_type": "display_data"
    }
   ],
   "source": [
    "# plot more clearer view\n",
    "fig9 = model.plot(fcst=forecast, xlabel='Date', ylabel='Price [PLN]', uncertainty=True, figsize=(9,4))\n",
    "plt.plot(df['ds'], df['y'], color='r')\n",
    "# x axis date range to plot\n",
    "fig9.gca().set_xlim(pd.to_datetime(['2021-12-01', '2022-03-01']))\n",
    "# y axis lower bound\n",
    "fig9.gca().set_ylim(bottom=13000)\n",
    "plt.show()"
   ]
  },
  {
   "cell_type": "markdown",
   "metadata": {
    "id": "pxUqxWCLpqI9"
   },
   "source": [
    "### 7. Summary and Final Thoughts\n",
    "\n",
    "The object of this project was to predict future stock prices for Ethereum cryptocurrency. The task was done and we successfully built our predictive model. We can clearly see that the <code>Prophet</code> model performed very good and is well suited for time series forecasting.\n",
    "\n",
    "Indeed, this library is easy to understand, doesn't require much machine learning knowledge, and is almost completely automatic. It is still recommended to implement custom features, like seasonality or special events for better forecasting results. The Facebook model is very flexible, meaning we can customize it at will by adding features and external regressors. It's better to do some extra research about trends and external behaviours that influence stock prices. Sometimes it requires the \"trial and error\" method and we need to try different options and choose the more accurate one.\n",
    "\n",
    "Stock price forecasting is an extremely difficult task. Although this model performed well, any stock prediction models out there shouldn't be taken for granted and blindly rely on them. They are used primarily for illustrative purposes and to know what to expect in the near future. However models might be able to predict stock price movement correctly most of the time, but not always."
   ]
  }
 ],
 "metadata": {
  "colab": {
   "collapsed_sections": [],
   "name": "ethereum.ipynb",
   "provenance": []
  },
  "kernelspec": {
   "display_name": "Python 3",
   "language": "python",
   "name": "python3"
  },
  "language_info": {
   "codemirror_mode": {
    "name": "ipython",
    "version": 3
   },
   "file_extension": ".py",
   "mimetype": "text/x-python",
   "name": "python",
   "nbconvert_exporter": "python",
   "pygments_lexer": "ipython3",
   "version": "3.8.3"
  },
  "widgets": {
   "application/vnd.jupyter.widget-state+json": {
    "1a06b281be734ef8be86f556a5d51b62": {
     "model_module": "@jupyter-widgets/controls",
     "model_module_version": "1.5.0",
     "model_name": "FloatProgressModel",
     "state": {
      "_dom_classes": [],
      "_model_module": "@jupyter-widgets/controls",
      "_model_module_version": "1.5.0",
      "_model_name": "FloatProgressModel",
      "_view_count": null,
      "_view_module": "@jupyter-widgets/controls",
      "_view_module_version": "1.5.0",
      "_view_name": "ProgressView",
      "bar_style": "success",
      "description": "",
      "description_tooltip": null,
      "layout": "IPY_MODEL_38a06d26e8f841029a637b30f391db64",
      "max": 26,
      "min": 0,
      "orientation": "horizontal",
      "style": "IPY_MODEL_521d988d38494d93aced6e72ae7c21ef",
      "value": 26
     }
    },
    "1e79e4ffc78743b6877c7cfc74b12cae": {
     "model_module": "@jupyter-widgets/controls",
     "model_module_version": "1.5.0",
     "model_name": "HTMLModel",
     "state": {
      "_dom_classes": [],
      "_model_module": "@jupyter-widgets/controls",
      "_model_module_version": "1.5.0",
      "_model_name": "HTMLModel",
      "_view_count": null,
      "_view_module": "@jupyter-widgets/controls",
      "_view_module_version": "1.5.0",
      "_view_name": "HTMLView",
      "description": "",
      "description_tooltip": null,
      "layout": "IPY_MODEL_6cdb4b75eaa24670b7223fb28b6a6ab9",
      "placeholder": "​",
      "style": "IPY_MODEL_704b606e022045d5a96faf10a25366eb",
      "value": "100%"
     }
    },
    "38a06d26e8f841029a637b30f391db64": {
     "model_module": "@jupyter-widgets/base",
     "model_module_version": "1.2.0",
     "model_name": "LayoutModel",
     "state": {
      "_model_module": "@jupyter-widgets/base",
      "_model_module_version": "1.2.0",
      "_model_name": "LayoutModel",
      "_view_count": null,
      "_view_module": "@jupyter-widgets/base",
      "_view_module_version": "1.2.0",
      "_view_name": "LayoutView",
      "align_content": null,
      "align_items": null,
      "align_self": null,
      "border": null,
      "bottom": null,
      "display": null,
      "flex": null,
      "flex_flow": null,
      "grid_area": null,
      "grid_auto_columns": null,
      "grid_auto_flow": null,
      "grid_auto_rows": null,
      "grid_column": null,
      "grid_gap": null,
      "grid_row": null,
      "grid_template_areas": null,
      "grid_template_columns": null,
      "grid_template_rows": null,
      "height": null,
      "justify_content": null,
      "justify_items": null,
      "left": null,
      "margin": null,
      "max_height": null,
      "max_width": null,
      "min_height": null,
      "min_width": null,
      "object_fit": null,
      "object_position": null,
      "order": null,
      "overflow": null,
      "overflow_x": null,
      "overflow_y": null,
      "padding": null,
      "right": null,
      "top": null,
      "visibility": null,
      "width": null
     }
    },
    "41a3c9909e86437a80d2639e5f59961a": {
     "model_module": "@jupyter-widgets/controls",
     "model_module_version": "1.5.0",
     "model_name": "HTMLModel",
     "state": {
      "_dom_classes": [],
      "_model_module": "@jupyter-widgets/controls",
      "_model_module_version": "1.5.0",
      "_model_name": "HTMLModel",
      "_view_count": null,
      "_view_module": "@jupyter-widgets/controls",
      "_view_module_version": "1.5.0",
      "_view_name": "HTMLView",
      "description": "",
      "description_tooltip": null,
      "layout": "IPY_MODEL_af226aa228a4494db12bd0f0dd8da91a",
      "placeholder": "​",
      "style": "IPY_MODEL_bb95b721346049b78c2f99d45738a83b",
      "value": " 26/26 [01:11&lt;00:00,  3.27s/it]"
     }
    },
    "521d988d38494d93aced6e72ae7c21ef": {
     "model_module": "@jupyter-widgets/controls",
     "model_module_version": "1.5.0",
     "model_name": "ProgressStyleModel",
     "state": {
      "_model_module": "@jupyter-widgets/controls",
      "_model_module_version": "1.5.0",
      "_model_name": "ProgressStyleModel",
      "_view_count": null,
      "_view_module": "@jupyter-widgets/base",
      "_view_module_version": "1.2.0",
      "_view_name": "StyleView",
      "bar_color": null,
      "description_width": ""
     }
    },
    "6cdb4b75eaa24670b7223fb28b6a6ab9": {
     "model_module": "@jupyter-widgets/base",
     "model_module_version": "1.2.0",
     "model_name": "LayoutModel",
     "state": {
      "_model_module": "@jupyter-widgets/base",
      "_model_module_version": "1.2.0",
      "_model_name": "LayoutModel",
      "_view_count": null,
      "_view_module": "@jupyter-widgets/base",
      "_view_module_version": "1.2.0",
      "_view_name": "LayoutView",
      "align_content": null,
      "align_items": null,
      "align_self": null,
      "border": null,
      "bottom": null,
      "display": null,
      "flex": null,
      "flex_flow": null,
      "grid_area": null,
      "grid_auto_columns": null,
      "grid_auto_flow": null,
      "grid_auto_rows": null,
      "grid_column": null,
      "grid_gap": null,
      "grid_row": null,
      "grid_template_areas": null,
      "grid_template_columns": null,
      "grid_template_rows": null,
      "height": null,
      "justify_content": null,
      "justify_items": null,
      "left": null,
      "margin": null,
      "max_height": null,
      "max_width": null,
      "min_height": null,
      "min_width": null,
      "object_fit": null,
      "object_position": null,
      "order": null,
      "overflow": null,
      "overflow_x": null,
      "overflow_y": null,
      "padding": null,
      "right": null,
      "top": null,
      "visibility": null,
      "width": null
     }
    },
    "704b606e022045d5a96faf10a25366eb": {
     "model_module": "@jupyter-widgets/controls",
     "model_module_version": "1.5.0",
     "model_name": "DescriptionStyleModel",
     "state": {
      "_model_module": "@jupyter-widgets/controls",
      "_model_module_version": "1.5.0",
      "_model_name": "DescriptionStyleModel",
      "_view_count": null,
      "_view_module": "@jupyter-widgets/base",
      "_view_module_version": "1.2.0",
      "_view_name": "StyleView",
      "description_width": ""
     }
    },
    "af226aa228a4494db12bd0f0dd8da91a": {
     "model_module": "@jupyter-widgets/base",
     "model_module_version": "1.2.0",
     "model_name": "LayoutModel",
     "state": {
      "_model_module": "@jupyter-widgets/base",
      "_model_module_version": "1.2.0",
      "_model_name": "LayoutModel",
      "_view_count": null,
      "_view_module": "@jupyter-widgets/base",
      "_view_module_version": "1.2.0",
      "_view_name": "LayoutView",
      "align_content": null,
      "align_items": null,
      "align_self": null,
      "border": null,
      "bottom": null,
      "display": null,
      "flex": null,
      "flex_flow": null,
      "grid_area": null,
      "grid_auto_columns": null,
      "grid_auto_flow": null,
      "grid_auto_rows": null,
      "grid_column": null,
      "grid_gap": null,
      "grid_row": null,
      "grid_template_areas": null,
      "grid_template_columns": null,
      "grid_template_rows": null,
      "height": null,
      "justify_content": null,
      "justify_items": null,
      "left": null,
      "margin": null,
      "max_height": null,
      "max_width": null,
      "min_height": null,
      "min_width": null,
      "object_fit": null,
      "object_position": null,
      "order": null,
      "overflow": null,
      "overflow_x": null,
      "overflow_y": null,
      "padding": null,
      "right": null,
      "top": null,
      "visibility": null,
      "width": null
     }
    },
    "b98c3fafbfff42c394dc7f7f6d47a3d6": {
     "model_module": "@jupyter-widgets/base",
     "model_module_version": "1.2.0",
     "model_name": "LayoutModel",
     "state": {
      "_model_module": "@jupyter-widgets/base",
      "_model_module_version": "1.2.0",
      "_model_name": "LayoutModel",
      "_view_count": null,
      "_view_module": "@jupyter-widgets/base",
      "_view_module_version": "1.2.0",
      "_view_name": "LayoutView",
      "align_content": null,
      "align_items": null,
      "align_self": null,
      "border": null,
      "bottom": null,
      "display": null,
      "flex": null,
      "flex_flow": null,
      "grid_area": null,
      "grid_auto_columns": null,
      "grid_auto_flow": null,
      "grid_auto_rows": null,
      "grid_column": null,
      "grid_gap": null,
      "grid_row": null,
      "grid_template_areas": null,
      "grid_template_columns": null,
      "grid_template_rows": null,
      "height": null,
      "justify_content": null,
      "justify_items": null,
      "left": null,
      "margin": null,
      "max_height": null,
      "max_width": null,
      "min_height": null,
      "min_width": null,
      "object_fit": null,
      "object_position": null,
      "order": null,
      "overflow": null,
      "overflow_x": null,
      "overflow_y": null,
      "padding": null,
      "right": null,
      "top": null,
      "visibility": null,
      "width": null
     }
    },
    "bb95b721346049b78c2f99d45738a83b": {
     "model_module": "@jupyter-widgets/controls",
     "model_module_version": "1.5.0",
     "model_name": "DescriptionStyleModel",
     "state": {
      "_model_module": "@jupyter-widgets/controls",
      "_model_module_version": "1.5.0",
      "_model_name": "DescriptionStyleModel",
      "_view_count": null,
      "_view_module": "@jupyter-widgets/base",
      "_view_module_version": "1.2.0",
      "_view_name": "StyleView",
      "description_width": ""
     }
    },
    "cde464f1f46b491c9a30de89db94c6ee": {
     "model_module": "@jupyter-widgets/controls",
     "model_module_version": "1.5.0",
     "model_name": "HBoxModel",
     "state": {
      "_dom_classes": [],
      "_model_module": "@jupyter-widgets/controls",
      "_model_module_version": "1.5.0",
      "_model_name": "HBoxModel",
      "_view_count": null,
      "_view_module": "@jupyter-widgets/controls",
      "_view_module_version": "1.5.0",
      "_view_name": "HBoxView",
      "box_style": "",
      "children": [
       "IPY_MODEL_1e79e4ffc78743b6877c7cfc74b12cae",
       "IPY_MODEL_1a06b281be734ef8be86f556a5d51b62",
       "IPY_MODEL_41a3c9909e86437a80d2639e5f59961a"
      ],
      "layout": "IPY_MODEL_b98c3fafbfff42c394dc7f7f6d47a3d6"
     }
    }
   }
  }
 },
 "nbformat": 4,
 "nbformat_minor": 1
}
